{
 "cells": [
  {
   "cell_type": "code",
   "execution_count": 2,
   "id": "b053eb58-6bd1-4c65-ad73-102de2a79c6f",
   "metadata": {},
   "outputs": [],
   "source": [
    "#pip install delta-spark"
   ]
  },
  {
   "cell_type": "code",
   "execution_count": 3,
   "id": "df3e4f97-90dc-4cf0-82ef-14f713e1b3f1",
   "metadata": {},
   "outputs": [],
   "source": [
    "from pyspark.sql.types import StructType,StructField, StringType, IntegerType\n",
    "from pyspark.sql import SparkSession\n",
    "from delta import DeltaTable"
   ]
  },
  {
   "cell_type": "code",
   "execution_count": 4,
   "id": "e8490c0a-b816-4e47-9cb4-eec43727347b",
   "metadata": {},
   "outputs": [],
   "source": [
    "# Build Spark Session with Delta Lake and MinIO configurations\n",
    "spark = SparkSession.builder \\\n",
    "    .appName(\"DeltaLake-Jupyter\") \\\n",
    "    .master(\"local[*]\") \\\n",
    "    .config(\"spark.jars.packages\", \"org.apache.hadoop:hadoop-aws:3.3.1,io.delta:delta-spark_2.12:3.2.0\") \\\n",
    "    .config(\"spark.hadoop.fs.s3a.endpoint\", \"http://host.docker.internal:9000\") \\\n",
    "    .config(\"spark.hadoop.fs.s3a.access.key\", \"MinioAdmin123\") \\\n",
    "    .config(\"spark.hadoop.fs.s3a.secret.key\", \"MinioAdmin123\") \\\n",
    "    .config(\"spark.hadoop.fs.s3a.path.style.access\", \"true\") \\\n",
    "    .config(\"spark.hadoop.fs.s3a.impl\", \"org.apache.hadoop.fs.s3a.S3AFileSystem\") \\\n",
    "    .config(\"spark.sql.extensions\", \"io.delta.sql.DeltaSparkSessionExtension\") \\\n",
    "    .config(\"spark.sql.catalog.spark_catalog\", \"org.apache.spark.sql.delta.catalog.DeltaCatalog\") \\\n",
    "    .getOrCreate()\n"
   ]
  },
  {
   "cell_type": "code",
   "execution_count": 5,
   "id": "ab4616a0-cf24-455d-b6b5-d3e15bddcb21",
   "metadata": {},
   "outputs": [
    {
     "data": {
      "text/html": [
       "\n",
       "            <div>\n",
       "                <p><b>SparkSession - in-memory</b></p>\n",
       "                \n",
       "        <div>\n",
       "            <p><b>SparkContext</b></p>\n",
       "\n",
       "            <p><a href=\"http://1fa5cd5ab09a:4044\">Spark UI</a></p>\n",
       "\n",
       "            <dl>\n",
       "              <dt>Version</dt>\n",
       "                <dd><code>v3.5.0</code></dd>\n",
       "              <dt>Master</dt>\n",
       "                <dd><code>local[*]</code></dd>\n",
       "              <dt>AppName</dt>\n",
       "                <dd><code>DeltaLake-Jupyter</code></dd>\n",
       "            </dl>\n",
       "        </div>\n",
       "        \n",
       "            </div>\n",
       "        "
      ],
      "text/plain": [
       "<pyspark.sql.session.SparkSession at 0xffffa06e5fd0>"
      ]
     },
     "execution_count": 5,
     "metadata": {},
     "output_type": "execute_result"
    }
   ],
   "source": [
    "spark"
   ]
  },
  {
   "cell_type": "code",
   "execution_count": 7,
   "id": "d967988e-7bde-4a57-909e-b955dda49728",
   "metadata": {},
   "outputs": [],
   "source": [
    "df = ( \n",
    "    spark\n",
    "    .read\n",
    "    .parquet(\"s3a://bronze-zone/dataway/sap/clients\")\n",
    ")"
   ]
  },
  {
   "cell_type": "code",
   "execution_count": 9,
   "id": "14186031-76be-4df1-a6bd-430c8e2c64a7",
   "metadata": {},
   "outputs": [],
   "source": [
    "(\n",
    "    df\n",
    "    .write\n",
    "    .format(\"delta\")\n",
    "    .mode(\"overwrite\")\n",
    "    .save(\"s3a://silver-zone/dataway/clients\")    \n",
    ")"
   ]
  },
  {
   "cell_type": "markdown",
   "id": "00826d61-1ab9-4a84-8b1b-7fc82324c957",
   "metadata": {},
   "source": [
    "# Explain Delta"
   ]
  },
  {
   "cell_type": "code",
   "execution_count": null,
   "id": "3b57c655-4ff7-4a72-b237-fcdc86264476",
   "metadata": {},
   "outputs": [],
   "source": [
    "# DeltaLog"
   ]
  },
  {
   "cell_type": "code",
   "execution_count": 10,
   "id": "0a406ea5-42a5-4bd0-b0eb-dd8fbfa256f4",
   "metadata": {},
   "outputs": [
    {
     "name": "stdout",
     "output_type": "stream",
     "text": [
      "+--------------------+--------------------+--------------------+--------------------+------+--------------------+-------------+\n",
      "|             address|               email|                name|        phone_number|system|        processed_at|  nationality|\n",
      "+--------------------+--------------------+--------------------+--------------------+------+--------------------+-------------+\n",
      "|6510 Williams Cur...|zachary35@example...|         Angela Ward|          4695162782|   sap|2025-01-11 19:31:...|NOT_BRAZILIAN|\n",
      "|PSC 3948, Box 662...|browntammy@exampl...|        Donald Owens|        898.341.9392|   sap|2025-01-11 19:31:...|NOT_BRAZILIAN|\n",
      "|807 Anderson Vill...|jessica82@example...|    Michele Williams|          7846921499|   sap|2025-01-11 19:31:...|NOT_BRAZILIAN|\n",
      "|90749 Paula Mount...|smithchristopher@...|        Cathy Curtis|       (429)360-1800|   sap|2025-01-11 19:31:...|NOT_BRAZILIAN|\n",
      "|425 Brittney Mews...|   hlowe@example.org|       Benjamin Kemp|    241.451.7586x618|   sap|2025-01-11 19:31:...|NOT_BRAZILIAN|\n",
      "|3522 Barrett Ridg...|grahamcassandra@e...|      Alexis Schmidt|+1-628-916-4593x0525|   sap|2025-01-11 19:31:...|NOT_BRAZILIAN|\n",
      "|98951 Campbell Fi...|davisstephanie@ex...|      Matthew Barber| (480)579-2301x29699|   sap|2025-01-11 19:31:...|NOT_BRAZILIAN|\n",
      "|168 Lisa Ridges A...|mcclurelouis@exam...|        Douglas Wang|  (407)684-5704x0443|   sap|2025-01-11 19:31:...|NOT_BRAZILIAN|\n",
      "|2080 Carter Park\\...|ramirezscott@exam...|        Steven Davis|        407.805.7211|   sap|2025-01-11 19:31:...|NOT_BRAZILIAN|\n",
      "|157 Taylor Fort S...|michael66@example...|        Dylan Chavez| (837)475-0947x14646|   sap|2025-01-11 19:31:...|NOT_BRAZILIAN|\n",
      "|93097 Nancy Sprin...|charlessmith@exam...|        Joseph Salas|       (290)909-9246|   sap|2025-01-11 19:31:...|NOT_BRAZILIAN|\n",
      "|PSC 3041, Box 471...|     zho@example.net|         James Scott| (231)500-5791x99853|   sap|2025-01-11 19:31:...|NOT_BRAZILIAN|\n",
      "|70237 Jaclyn Stat...|paynerachel@examp...|        Carl Douglas|    001-570-226-3180|   sap|2025-01-11 19:31:...|NOT_BRAZILIAN|\n",
      "|Unit 7046 Box 678...| atorres@example.net|      Michael Martin|          2392631891|   sap|2025-01-11 19:31:...|NOT_BRAZILIAN|\n",
      "|09234 Walker Prai...|katiewilliams@exa...|Christopher Ryan Jr.|        799-578-5975|   sap|2025-01-11 19:31:...|NOT_BRAZILIAN|\n",
      "|16196 Craig Isle\\...|nicolejimenez@exa...|     Derek Hernandez|  394.293.0870x26402|   sap|2025-01-11 19:31:...|NOT_BRAZILIAN|\n",
      "|3242 Caroline Fla...| jamie76@example.net|           Amy Brown|   341.692.8229x2987|   sap|2025-01-11 19:31:...|NOT_BRAZILIAN|\n",
      "|70875 Osborn Park...|joseph51@example.com|       Jennifer Ford|   582.323.8062x4583|   sap|2025-01-11 19:31:...|NOT_BRAZILIAN|\n",
      "|8324 Lewis Manors...| rjoseph@example.net|       Russell Davis|        817-427-3479|   sap|2025-01-11 19:31:...|NOT_BRAZILIAN|\n",
      "|09795 Tara Statio...| mwatson@example.com|         Joshua Reed|   (310)807-4089x933|   sap|2025-01-11 19:31:...|NOT_BRAZILIAN|\n",
      "+--------------------+--------------------+--------------------+--------------------+------+--------------------+-------------+\n",
      "only showing top 20 rows\n",
      "\n"
     ]
    }
   ],
   "source": [
    "# Read Delta\n",
    "deltaTable = DeltaTable.forPath(spark, \"s3a://silver-zone/dataway/clients\")\n",
    "deltaTable.toDF().show()"
   ]
  },
  {
   "cell_type": "code",
   "execution_count": 11,
   "id": "068f9b94-d296-450e-99ec-b61fd4d50bd5",
   "metadata": {},
   "outputs": [
    {
     "name": "stdout",
     "output_type": "stream",
     "text": [
      "root\n",
      " |-- address: string (nullable = true)\n",
      " |-- email: string (nullable = true)\n",
      " |-- name: string (nullable = true)\n",
      " |-- phone_number: string (nullable = true)\n",
      " |-- system: string (nullable = true)\n",
      " |-- processed_at: timestamp (nullable = true)\n",
      " |-- nationality: string (nullable = true)\n",
      "\n"
     ]
    }
   ],
   "source": [
    "# Upsert\n",
    "df_protheus = ( \n",
    "    spark\n",
    "    .read\n",
    "    .parquet(\"s3a://bronze-zone/dataway/protheus/clients\")\n",
    ")\n",
    "df_protheus = df.dropDuplicates([\"email\"])\n",
    "df_protheus.printSchema()"
   ]
  },
  {
   "cell_type": "markdown",
   "id": "231035e3-a148-4ac6-810d-d7e329303a65",
   "metadata": {},
   "source": [
    "# UPSERT"
   ]
  },
  {
   "cell_type": "code",
   "execution_count": 28,
   "id": "4ebdc93a-04db-43ed-9782-1680cbef20f1",
   "metadata": {},
   "outputs": [],
   "source": [
    "#spark.conf.set(\"spark.databricks.delta.schema.autoMerge.enabled\",\"true\")\n",
    "(\n",
    "    deltaTable.alias(\"dados_atuais\")\n",
    "    .merge(\n",
    "        df_protheus.alias(\"novos_dados\"),\n",
    "        \"dados_atuais.email = novos_dados.email\"\n",
    "    )\n",
    "    .whenMatchedUpdateAll()\n",
    "    .whenNotMatchedInsertAll()\n",
    "    .execute()\n",
    ")"
   ]
  },
  {
   "cell_type": "markdown",
   "id": "a445d7af-808c-4d79-ba1a-2b900a73ec65",
   "metadata": {},
   "source": [
    "# Optimization"
   ]
  },
  {
   "cell_type": "code",
   "execution_count": 19,
   "id": "b61b83cb-5c1e-4c95-b79e-9ef22beee9b6",
   "metadata": {},
   "outputs": [
    {
     "data": {
      "text/plain": [
       "DataFrame[path: string, metrics: struct<numFilesAdded:bigint,numFilesRemoved:bigint,filesAdded:struct<min:bigint,max:bigint,avg:double,totalFiles:bigint,totalSize:bigint>,filesRemoved:struct<min:bigint,max:bigint,avg:double,totalFiles:bigint,totalSize:bigint>,partitionsOptimized:bigint,zOrderStats:struct<strategyName:string,inputCubeFiles:struct<num:bigint,size:bigint>,inputOtherFiles:struct<num:bigint,size:bigint>,inputNumCubes:bigint,mergedFiles:struct<num:bigint,size:bigint>,numOutputCubes:bigint,mergedNumCubes:bigint>,clusteringStats:struct<inputZCubeFiles:struct<numFiles:bigint,size:bigint>,inputOtherFiles:struct<numFiles:bigint,size:bigint>,inputNumZCubes:bigint,mergedFiles:struct<numFiles:bigint,size:bigint>,numOutputZCubes:bigint>,numBatches:bigint,totalConsideredFiles:bigint,totalFilesSkipped:bigint,preserveInsertionOrder:boolean,numFilesSkippedToReduceWriteAmplification:bigint,numBytesSkippedToReduceWriteAmplification:bigint,startTimeMs:bigint,endTimeMs:bigint,totalClusterParallelism:bigint,totalScheduledTasks:bigint,autoCompactParallelismStats:struct<maxClusterActiveParallelism:bigint,minClusterActiveParallelism:bigint,maxSessionActiveParallelism:bigint,minSessionActiveParallelism:bigint>,deletionVectorStats:struct<numDeletionVectorsRemoved:bigint,numDeletionVectorRowsRemoved:bigint>,numTableColumns:bigint,numTableColumnsWithStats:bigint>]"
      ]
     },
     "execution_count": 19,
     "metadata": {},
     "output_type": "execute_result"
    }
   ],
   "source": [
    "# Optimize\n",
    "deltaTable.optimize().executeCompaction()"
   ]
  },
  {
   "cell_type": "code",
   "execution_count": 20,
   "id": "844fcc89-bd8f-4836-beb7-2477120fb8dc",
   "metadata": {},
   "outputs": [
    {
     "data": {
      "text/plain": [
       "DataFrame[path: string]"
      ]
     },
     "execution_count": 20,
     "metadata": {},
     "output_type": "execute_result"
    }
   ],
   "source": [
    "# Vaccum\n",
    "spark.conf.set(\"spark.databricks.delta.retentionDurationCheck.enabled\",\"false\")\n",
    "\n",
    "spark.sql(f\"VACUUM delta.`{delta_table_path}` RETAIN 0 HOURS\")"
   ]
  },
  {
   "cell_type": "markdown",
   "id": "62a440b5-75ea-4a5a-bb5f-55261d5a7dc3",
   "metadata": {},
   "source": [
    "# History"
   ]
  },
  {
   "cell_type": "code",
   "execution_count": 31,
   "id": "23f2c180-ab85-423f-a879-91844e7fc08d",
   "metadata": {},
   "outputs": [
    {
     "name": "stdout",
     "output_type": "stream",
     "text": [
      "+-------+-------------------+---------+\n",
      "|version|timestamp          |operation|\n",
      "+-------+-------------------+---------+\n",
      "|6      |2025-01-11 21:50:44|RESTORE  |\n",
      "|5      |2025-01-11 21:50:24|MERGE    |\n",
      "|4      |2025-01-11 21:42:34|MERGE    |\n",
      "|3      |2025-01-11 21:42:26|MERGE    |\n",
      "|2      |2025-01-11 21:31:00|MERGE    |\n",
      "|1      |2025-01-11 21:20:07|WRITE    |\n",
      "|0      |2025-01-11 21:15:08|WRITE    |\n",
      "+-------+-------------------+---------+\n",
      "\n"
     ]
    }
   ],
   "source": [
    "(\n",
    "    deltaTable\n",
    "    .history()\n",
    "    .select(\"version\", \"timestamp\", \"operation\")\n",
    "    .show(truncate=False, vertical=False)\n",
    ")"
   ]
  },
  {
   "cell_type": "markdown",
   "id": "5e3ec13d-8c23-4eac-b5b6-7eb04a1e4a9e",
   "metadata": {},
   "source": [
    "# TimeTravel"
   ]
  },
  {
   "cell_type": "code",
   "execution_count": 30,
   "id": "5b927a4a-f0cb-4940-a31f-9983fcc3577f",
   "metadata": {},
   "outputs": [
    {
     "data": {
      "text/plain": [
       "DataFrame[table_size_after_restore: bigint, num_of_files_after_restore: bigint, num_removed_files: bigint, num_restored_files: bigint, removed_files_size: bigint, restored_files_size: bigint]"
      ]
     },
     "execution_count": 30,
     "metadata": {},
     "output_type": "execute_result"
    }
   ],
   "source": [
    "deltaTable.restoreToVersion(4)"
   ]
  },
  {
   "cell_type": "code",
   "execution_count": null,
   "id": "bba5f38d-d936-46af-bef9-11b961d784d0",
   "metadata": {},
   "outputs": [],
   "source": []
  },
  {
   "cell_type": "code",
   "execution_count": null,
   "id": "e19b8acc-c4cd-41bd-9999-2dd617b4a0aa",
   "metadata": {},
   "outputs": [],
   "source": []
  }
 ],
 "metadata": {
  "kernelspec": {
   "display_name": "Python 3 (ipykernel)",
   "language": "python",
   "name": "python3"
  },
  "language_info": {
   "codemirror_mode": {
    "name": "ipython",
    "version": 3
   },
   "file_extension": ".py",
   "mimetype": "text/x-python",
   "name": "python",
   "nbconvert_exporter": "python",
   "pygments_lexer": "ipython3",
   "version": "3.11.6"
  }
 },
 "nbformat": 4,
 "nbformat_minor": 5
}
