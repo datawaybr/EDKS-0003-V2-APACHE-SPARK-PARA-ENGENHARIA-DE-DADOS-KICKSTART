{
 "cells": [
  {
   "cell_type": "code",
   "execution_count": 1,
   "id": "df3e4f97-90dc-4cf0-82ef-14f713e1b3f1",
   "metadata": {},
   "outputs": [],
   "source": [
    "from pyspark.sql.types import StructType,StructField, StringType, IntegerType\n",
    "from pyspark.sql import SparkSession"
   ]
  },
  {
   "cell_type": "code",
   "execution_count": 2,
   "id": "e8490c0a-b816-4e47-9cb4-eec43727347b",
   "metadata": {},
   "outputs": [],
   "source": [
    "spark = SparkSession.builder \\\n",
    "    .appName(\"MinIO\") \\\n",
    "    .master(\"local[*]\") \\\n",
    "    .config(\"spark.jars.packages\", \"org.apache.hadoop:hadoop-aws:3.3.1\") \\\n",
    "    .config(\"spark.hadoop.fs.s3a.endpoint\", \"http://host.docker.internal:9000\") \\\n",
    "    .config(\"spark.hadoop.fs.s3a.access.key\", \"MinioAdmin123\") \\\n",
    "    .config(\"spark.hadoop.fs.s3a.secret.key\", \"MinioAdmin123\") \\\n",
    "    .config(\"spark.hadoop.fs.s3a.path.style.access\", \"true\") \\\n",
    "    .config(\"spark.hadoop.fs.s3a.impl\", \"org.apache.hadoop.fs.s3a.S3AFileSystem\") \\\n",
    "    .getOrCreate()"
   ]
  },
  {
   "cell_type": "code",
   "execution_count": 3,
   "id": "ab4616a0-cf24-455d-b6b5-d3e15bddcb21",
   "metadata": {},
   "outputs": [
    {
     "data": {
      "text/html": [
       "\n",
       "            <div>\n",
       "                <p><b>SparkSession - in-memory</b></p>\n",
       "                \n",
       "        <div>\n",
       "            <p><b>SparkContext</b></p>\n",
       "\n",
       "            <p><a href=\"http://b9823aacd5e2:4040\">Spark UI</a></p>\n",
       "\n",
       "            <dl>\n",
       "              <dt>Version</dt>\n",
       "                <dd><code>v3.5.0</code></dd>\n",
       "              <dt>Master</dt>\n",
       "                <dd><code>local[*]</code></dd>\n",
       "              <dt>AppName</dt>\n",
       "                <dd><code>MinIO</code></dd>\n",
       "            </dl>\n",
       "        </div>\n",
       "        \n",
       "            </div>\n",
       "        "
      ],
      "text/plain": [
       "<pyspark.sql.session.SparkSession at 0xffff708fde10>"
      ]
     },
     "execution_count": 3,
     "metadata": {},
     "output_type": "execute_result"
    }
   ],
   "source": [
    "spark"
   ]
  },
  {
   "cell_type": "code",
   "execution_count": 4,
   "id": "e2785b9a-5ae3-4a9e-a400-40c9f706f32d",
   "metadata": {},
   "outputs": [],
   "source": [
    "spark.sparkContext.setLogLevel(\"WARN\")"
   ]
  },
  {
   "cell_type": "code",
   "execution_count": 5,
   "id": "25ab3889-6764-4d30-a34b-fc3b289f815e",
   "metadata": {},
   "outputs": [
    {
     "name": "stdout",
     "output_type": "stream",
     "text": [
      "root\n",
      " |-- name: string (nullable = true)\n",
      " |-- address: string (nullable = true)\n",
      " |-- email: string (nullable = true)\n",
      " |-- phone_number: string (nullable = true)\n",
      "\n",
      "+----------------+------------------------------------------------------------+-------------------------------+---------------------+\n",
      "|name            |address                                                     |email                          |phone_number         |\n",
      "+----------------+------------------------------------------------------------+-------------------------------+---------------------+\n",
      "|Nicholas Schmidt|17259 Reynolds Stravenue Apt. 667\\nAdamburgh, LA 47025      |williamfaulkner@example.net    |001-750-587-9560x7334|\n",
      "|David Martinez  |4363 Alicia Forge\\nEast Michelleburgh, ND 47615             |xbrewer@example.com            |001-386-794-5054x7856|\n",
      "|Peter Lee       |3076 Smith Ranch Suite 961\\nReynoldsland, LA 06612          |cheryldiaz@example.net         |345-694-9912         |\n",
      "|Linda Rasmussen |431 John Mountain\\nLloydhaven, KY 75215                     |jasminharris@example.com       |+1-276-656-7694x067  |\n",
      "|Rachel Willis   |6007 Burch Squares\\nSouth Nicolefurt, MA 83682              |christopheranderson@example.com|787-658-8779x90447   |\n",
      "|Wesley James    |0333 Abigail Crossing Suite 755\\nNorth Diane, HI 86958      |karen24@example.org            |451.935.8241x763     |\n",
      "|Karen Jenkins   |26177 Chan Mission Suite 258\\nNorth Andreastad, AZ 35043    |ryan26@example.com             |512-831-4421x95023   |\n",
      "|Paul Scott      |01414 Lori Forge Apt. 262\\nSnydermouth, VI 37155            |juliehart@example.org          |+1-725-384-5288x80161|\n",
      "|Erica Robinson  |PSC 8644, Box 6906\\nAPO AP 16825                            |fmorales@example.org           |(975)816-8187        |\n",
      "|Michael Collins |38992 Theresa Plaza Suite 036\\nLake Laura, WV 14261         |jennifer03@example.org         |709.587.0407         |\n",
      "|Whitney Floyd   |89692 Buck Locks\\nNew Brian, OH 36425                       |susanbarry@example.com         |583.385.1341x16691   |\n",
      "|Andrew Dunn     |285 Dale Course\\nMorenomouth, MI 01884                      |jamesromero@example.org        |798.764.0091x10150   |\n",
      "|Robert Gray     |108 Felicia Islands\\nStephentown, MN 41963                  |brittneyalvarado@example.com   |001-641-633-7048x572 |\n",
      "|James Acosta    |88039 Wilson Inlet Apt. 839\\nEast Beth, PR 88730            |greg97@example.com             |228.573.9335x086     |\n",
      "|Melissa Andrews |83527 Brown Tunnel Apt. 639\\nPort Richardmouth, MD 54677    |jameshicks@example.net         |566-910-2483x28709   |\n",
      "|Monica Chapman  |31303 Gay Pines Suite 969\\nPatriciaberg, VA 78016           |sydney84@example.com           |+1-893-639-9740x3543 |\n",
      "|Robert Fisher   |44646 Dennis Stravenue\\nMarthafort, PR 21461                |jeverett@example.org           |610-418-2279         |\n",
      "|Maria Ramirez   |5967 William Extension Apt. 986\\nSouth Kathrynfort, GU 10680|kimberly76@example.net         |(396)352-3033x647    |\n",
      "|Michael Foster  |91498 Hernandez Common\\nSavageville, VI 60213               |oliviamiller@example.net       |(263)503-5741        |\n",
      "|Colin Fox       |3736 Joshua Lakes\\nWilliamtown, NV 16098                    |david11@example.net            |(465)651-5231        |\n",
      "+----------------+------------------------------------------------------------+-------------------------------+---------------------+\n",
      "only showing top 20 rows\n",
      "\n"
     ]
    }
   ],
   "source": [
    "# Read data from the specified path\n",
    "df = spark.read.format(\"parquet\").option(\"header\", \"true\").load(\"s3a://landing-zone/dataway/cloud_x/clients\")\n",
    "\n",
    "df.printSchema()\n",
    "\n",
    "df.show(truncate=False)"
   ]
  },
  {
   "cell_type": "code",
   "execution_count": null,
   "id": "d967988e-7bde-4a57-909e-b955dda49728",
   "metadata": {},
   "outputs": [],
   "source": []
  }
 ],
 "metadata": {
  "kernelspec": {
   "display_name": "Python 3 (ipykernel)",
   "language": "python",
   "name": "python3"
  },
  "language_info": {
   "codemirror_mode": {
    "name": "ipython",
    "version": 3
   },
   "file_extension": ".py",
   "mimetype": "text/x-python",
   "name": "python",
   "nbconvert_exporter": "python",
   "pygments_lexer": "ipython3",
   "version": "3.11.6"
  }
 },
 "nbformat": 4,
 "nbformat_minor": 5
}
