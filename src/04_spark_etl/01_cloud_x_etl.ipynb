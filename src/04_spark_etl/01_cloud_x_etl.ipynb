{
 "cells": [
  {
   "cell_type": "code",
   "execution_count": 1,
   "id": "df3e4f97-90dc-4cf0-82ef-14f713e1b3f1",
   "metadata": {},
   "outputs": [],
   "source": [
    "from pyspark.sql import SparkSession\n",
    "from pyspark.sql import functions as F"
   ]
  },
  {
   "cell_type": "code",
   "execution_count": 2,
   "id": "e8490c0a-b816-4e47-9cb4-eec43727347b",
   "metadata": {},
   "outputs": [],
   "source": [
    "spark = SparkSession.builder \\\n",
    "    .appName(\"MinIO\") \\\n",
    "    .master(\"local[*]\") \\\n",
    "    .config(\"spark.jars.packages\", \"org.apache.hadoop:hadoop-aws:3.3.1\") \\\n",
    "    .config(\"spark.hadoop.fs.s3a.endpoint\", \"http://host.docker.internal:9000\") \\\n",
    "    .config(\"spark.hadoop.fs.s3a.access.key\", \"MinioAdmin123\") \\\n",
    "    .config(\"spark.hadoop.fs.s3a.secret.key\", \"MinioAdmin123\") \\\n",
    "    .config(\"spark.hadoop.fs.s3a.path.style.access\", \"true\") \\\n",
    "    .config(\"spark.hadoop.fs.s3a.impl\", \"org.apache.hadoop.fs.s3a.S3AFileSystem\") \\\n",
    "    .getOrCreate()"
   ]
  },
  {
   "cell_type": "code",
   "execution_count": 3,
   "id": "ab4616a0-cf24-455d-b6b5-d3e15bddcb21",
   "metadata": {},
   "outputs": [
    {
     "data": {
      "text/html": [
       "\n",
       "            <div>\n",
       "                <p><b>SparkSession - in-memory</b></p>\n",
       "                \n",
       "        <div>\n",
       "            <p><b>SparkContext</b></p>\n",
       "\n",
       "            <p><a href=\"http://1fa5cd5ab09a:4042\">Spark UI</a></p>\n",
       "\n",
       "            <dl>\n",
       "              <dt>Version</dt>\n",
       "                <dd><code>v3.5.0</code></dd>\n",
       "              <dt>Master</dt>\n",
       "                <dd><code>local[*]</code></dd>\n",
       "              <dt>AppName</dt>\n",
       "                <dd><code>MinIO</code></dd>\n",
       "            </dl>\n",
       "        </div>\n",
       "        \n",
       "            </div>\n",
       "        "
      ],
      "text/plain": [
       "<pyspark.sql.session.SparkSession at 0xffff5c0e1ad0>"
      ]
     },
     "execution_count": 3,
     "metadata": {},
     "output_type": "execute_result"
    }
   ],
   "source": [
    "spark"
   ]
  },
  {
   "cell_type": "markdown",
   "id": "35d98a79-a7c3-4873-8ec2-bdec1a75e541",
   "metadata": {},
   "source": [
    "# CLOUD X"
   ]
  },
  {
   "cell_type": "code",
   "execution_count": 4,
   "id": "961edff3-f452-4d42-892c-de5ef5daef45",
   "metadata": {},
   "outputs": [
    {
     "name": "stdout",
     "output_type": "stream",
     "text": [
      "+-----------------+--------------------+--------------------+--------------------+\n",
      "|             name|             address|               email|        phone_number|\n",
      "+-----------------+--------------------+--------------------+--------------------+\n",
      "|     Norma Fisher|4759 William Have...|thomas15@example.com|  993-787-7840x80160|\n",
      "|Frederick Harrell|28711 Golden Over...|tamaramorrison@ex...|   671-996-5934x2320|\n",
      "| Michael Anderson|86848 Melissa Spr...|christopher91@exa...|    001-453-730-4135|\n",
      "|    Antonio Logan|98910 Cynthia Res...| leetara@example.net|        673-300-8691|\n",
      "|     Matthew Bell|91634 Strong Moun...|   awade@example.com|+1-269-684-5642x8...|\n",
      "|     Philip Olson|924 Goodman Villa...|   rpage@example.net| (206)296-0271x42787|\n",
      "|   Eric Owens PhD|81206 Stewart For...| haley21@example.com|  (210)247-1428x5124|\n",
      "|    Michael Grant|USS Mathis\\nFPO A...| djoseph@example.net| (758)323-6940x22455|\n",
      "|    Marc Williams|6824 Timothy Gard...|garciaregina@exam...|  351-371-7604x52296|\n",
      "| Christina Walker|8847 Kramer Stati...|ryanhoward@exampl...|001-408-373-1764x303|\n",
      "|      James Payne|96687 Bass Parks ...|warrennancy@examp...|       (369)547-1180|\n",
      "|       Eric Blake|75868 Audrey Spri...|epetersen@example...| +1-993-600-2489x451|\n",
      "|Elizabeth Russell|23450 Timothy Div...|lisagomez@example...| +1-476-770-1720x099|\n",
      "|      Joshua Reed|09795 Tara Statio...| mwatson@example.com|   (310)807-4089x933|\n",
      "|   Theresa Thomas|16116 Jessica Bur...|gomezdavid@exampl...|          4555203519|\n",
      "|   Matthew Dennis|PSC 0450, Box 932...| qcooper@example.org|          4353574485|\n",
      "|      Kevin Moore|PSC 2358, Box 332...|callahancarolyn@e...|        812-664-8629|\n",
      "|   Angela Wallace|6065 Harris Hill\\...|daniel92@example.net|    962.366.2375x825|\n",
      "|   Mr. Aaron Hale|41489 Roger Terra...|bramirez@example.org|    600-546-8967x145|\n",
      "|    Amanda Sparks|83216 Campbell Da...|ashley22@example.org|001-516-969-7284x576|\n",
      "+-----------------+--------------------+--------------------+--------------------+\n",
      "only showing top 20 rows\n",
      "\n"
     ]
    }
   ],
   "source": [
    "clients_parquet_df = spark.read.parquet(\"s3a://landing-zone/dataway/cloud_x/clients\")\n",
    "clients_parquet_df.show()"
   ]
  },
  {
   "cell_type": "code",
   "execution_count": 5,
   "id": "40adc387-e18b-47d0-a499-38c826b29409",
   "metadata": {},
   "outputs": [],
   "source": [
    "clients_parquet_df_bronze = (\n",
    "    clients_parquet_df\n",
    "    .withColumn('system', F.lit('cloud_x'))\n",
    "    .withColumn('processed_at', F.current_timestamp())\n",
    ")"
   ]
  },
  {
   "cell_type": "code",
   "execution_count": 11,
   "id": "d978d8be-1630-4f0e-83e3-39220a0b060b",
   "metadata": {},
   "outputs": [
    {
     "name": "stdout",
     "output_type": "stream",
     "text": [
      "+-----------------+-----------------------------------------------------------+---------------------------+---------------------+-------+--------------------------+\n",
      "|name             |address                                                    |email                      |phone_number         |system |processed_at              |\n",
      "+-----------------+-----------------------------------------------------------+---------------------------+---------------------+-------+--------------------------+\n",
      "|Norma Fisher     |4759 William Haven Apt. 194\\nWest Corey, CA 90152          |thomas15@example.com       |993-787-7840x80160   |cloud_x|2025-01-11 19:11:30.688381|\n",
      "|Frederick Harrell|28711 Golden Overpass\\nWest Andreaville, OH 44115          |tamaramorrison@example.net |671-996-5934x2320    |cloud_x|2025-01-11 19:11:30.688381|\n",
      "|Michael Anderson |86848 Melissa Springs\\nRileymouth, NM 87040                |christopher91@example.com  |001-453-730-4135     |cloud_x|2025-01-11 19:11:30.688381|\n",
      "|Antonio Logan    |98910 Cynthia Rest\\nSouth Christopherville, AZ 79865       |leetara@example.net        |673-300-8691         |cloud_x|2025-01-11 19:11:30.688381|\n",
      "|Matthew Bell     |91634 Strong Mountains Apt. 302\\nWest Alyssa, DE 78723     |awade@example.com          |+1-269-684-5642x80715|cloud_x|2025-01-11 19:11:30.688381|\n",
      "|Philip Olson     |924 Goodman Village Apt. 093\\nErnestbury, SC 59238         |rpage@example.net          |(206)296-0271x42787  |cloud_x|2025-01-11 19:11:30.688381|\n",
      "|Eric Owens PhD   |81206 Stewart Forest Apt. 089\\nEast Davidborough, VI 40139 |haley21@example.com        |(210)247-1428x5124   |cloud_x|2025-01-11 19:11:30.688381|\n",
      "|Michael Grant    |USS Mathis\\nFPO AP 80139                                   |djoseph@example.net        |(758)323-6940x22455  |cloud_x|2025-01-11 19:11:30.688381|\n",
      "|Marc Williams    |6824 Timothy Garden Apt. 428\\nWest Richardmouth, ME 54859  |garciaregina@example.com   |351-371-7604x52296   |cloud_x|2025-01-11 19:11:30.688381|\n",
      "|Christina Walker |8847 Kramer Station\\nSouth Christopher, IN 34699           |ryanhoward@example.org     |001-408-373-1764x303 |cloud_x|2025-01-11 19:11:30.688381|\n",
      "|James Payne      |96687 Bass Parks Apt. 893\\nWest Janicemouth, GU 42683      |warrennancy@example.net    |(369)547-1180        |cloud_x|2025-01-11 19:11:30.688381|\n",
      "|Eric Blake       |75868 Audrey Springs\\nLake Ronaldborough, LA 70679         |epetersen@example.com      |+1-993-600-2489x451  |cloud_x|2025-01-11 19:11:30.688381|\n",
      "|Elizabeth Russell|23450 Timothy Divide\\nWuland, TX 92080                     |lisagomez@example.org      |+1-476-770-1720x099  |cloud_x|2025-01-11 19:11:30.688381|\n",
      "|Joshua Reed      |09795 Tara Station Suite 264\\nNew Michelleborough, AZ 51884|mwatson@example.com        |(310)807-4089x933    |cloud_x|2025-01-11 19:11:30.688381|\n",
      "|Theresa Thomas   |16116 Jessica Burgs Suite 660\\nCalhounmouth, VA 33607      |gomezdavid@example.net     |4555203519           |cloud_x|2025-01-11 19:11:30.688381|\n",
      "|Matthew Dennis   |PSC 0450, Box 9322\\nAPO AA 15232                           |qcooper@example.org        |4353574485           |cloud_x|2025-01-11 19:11:30.688381|\n",
      "|Kevin Moore      |PSC 2358, Box 3324\\nAPO AA 55523                           |callahancarolyn@example.com|812-664-8629         |cloud_x|2025-01-11 19:11:30.688381|\n",
      "|Angela Wallace   |6065 Harris Hill\\nDavisburgh, WY 14737                     |daniel92@example.net       |962.366.2375x825     |cloud_x|2025-01-11 19:11:30.688381|\n",
      "|Mr. Aaron Hale   |41489 Roger Terrace\\nDavisfort, WV 30957                   |bramirez@example.org       |600-546-8967x145     |cloud_x|2025-01-11 19:11:30.688381|\n",
      "|Amanda Sparks    |83216 Campbell Dale Apt. 816\\nFigueroaview, LA 58482       |ashley22@example.org       |001-516-969-7284x576 |cloud_x|2025-01-11 19:11:30.688381|\n",
      "+-----------------+-----------------------------------------------------------+---------------------------+---------------------+-------+--------------------------+\n",
      "only showing top 20 rows\n",
      "\n"
     ]
    }
   ],
   "source": [
    "clients_parquet_df_bronze.show(truncate=False)"
   ]
  },
  {
   "cell_type": "code",
   "execution_count": 9,
   "id": "29209926-a494-48a7-87ef-37d694f77855",
   "metadata": {},
   "outputs": [],
   "source": [
    "( \n",
    "    clients_parquet_df_bronze\n",
    "    .write\n",
    "    .mode('overwrite')\n",
    "    .parquet(\"s3a://bronze-zone/dataway/cloud_x/clients\")\n",
    ")"
   ]
  },
  {
   "cell_type": "code",
   "execution_count": null,
   "id": "ad4af543-6939-4542-b28a-8b81149adfa3",
   "metadata": {},
   "outputs": [],
   "source": []
  }
 ],
 "metadata": {
  "kernelspec": {
   "display_name": "Python 3 (ipykernel)",
   "language": "python",
   "name": "python3"
  },
  "language_info": {
   "codemirror_mode": {
    "name": "ipython",
    "version": 3
   },
   "file_extension": ".py",
   "mimetype": "text/x-python",
   "name": "python",
   "nbconvert_exporter": "python",
   "pygments_lexer": "ipython3",
   "version": "3.11.6"
  }
 },
 "nbformat": 4,
 "nbformat_minor": 5
}
