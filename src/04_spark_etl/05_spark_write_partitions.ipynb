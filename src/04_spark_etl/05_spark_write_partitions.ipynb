{
 "cells": [
  {
   "cell_type": "code",
   "execution_count": 1,
   "id": "df3e4f97-90dc-4cf0-82ef-14f713e1b3f1",
   "metadata": {},
   "outputs": [],
   "source": [
    "from pyspark.sql import SparkSession\n",
    "from pyspark.sql import functions as F"
   ]
  },
  {
   "cell_type": "code",
   "execution_count": 2,
   "id": "e8490c0a-b816-4e47-9cb4-eec43727347b",
   "metadata": {},
   "outputs": [],
   "source": [
    "spark = SparkSession.builder \\\n",
    "    .appName(\"MinIO\") \\\n",
    "    .master(\"local[*]\") \\\n",
    "    .config(\"spark.jars.packages\", \"org.apache.hadoop:hadoop-aws:3.3.1\") \\\n",
    "    .config(\"spark.hadoop.fs.s3a.endpoint\", \"http://host.docker.internal:9000\") \\\n",
    "    .config(\"spark.hadoop.fs.s3a.access.key\", \"MinioAdmin123\") \\\n",
    "    .config(\"spark.hadoop.fs.s3a.secret.key\", \"MinioAdmin123\") \\\n",
    "    .config(\"spark.hadoop.fs.s3a.path.style.access\", \"true\") \\\n",
    "    .config(\"spark.hadoop.fs.s3a.impl\", \"org.apache.hadoop.fs.s3a.S3AFileSystem\") \\\n",
    "    .getOrCreate()"
   ]
  },
  {
   "cell_type": "code",
   "execution_count": 3,
   "id": "ab4616a0-cf24-455d-b6b5-d3e15bddcb21",
   "metadata": {},
   "outputs": [
    {
     "data": {
      "text/html": [
       "\n",
       "            <div>\n",
       "                <p><b>SparkSession - in-memory</b></p>\n",
       "                \n",
       "        <div>\n",
       "            <p><b>SparkContext</b></p>\n",
       "\n",
       "            <p><a href=\"http://1fa5cd5ab09a:4042\">Spark UI</a></p>\n",
       "\n",
       "            <dl>\n",
       "              <dt>Version</dt>\n",
       "                <dd><code>v3.5.0</code></dd>\n",
       "              <dt>Master</dt>\n",
       "                <dd><code>local[*]</code></dd>\n",
       "              <dt>AppName</dt>\n",
       "                <dd><code>MinIO</code></dd>\n",
       "            </dl>\n",
       "        </div>\n",
       "        \n",
       "            </div>\n",
       "        "
      ],
      "text/plain": [
       "<pyspark.sql.session.SparkSession at 0xffff7904db90>"
      ]
     },
     "execution_count": 3,
     "metadata": {},
     "output_type": "execute_result"
    }
   ],
   "source": [
    "spark"
   ]
  },
  {
   "cell_type": "code",
   "execution_count": 4,
   "id": "d967988e-7bde-4a57-909e-b955dda49728",
   "metadata": {},
   "outputs": [],
   "source": [
    "clients_json_df = (\n",
    "    spark\n",
    "    .read\n",
    "    .option(\"inferSchema\", \"true\")\n",
    "    .json(\"s3a://landing-zone/dataway/sap/clients\")\n",
    ")"
   ]
  },
  {
   "cell_type": "code",
   "execution_count": 5,
   "id": "640227e2-2560-42b1-bf8c-4905e269d9de",
   "metadata": {},
   "outputs": [],
   "source": [
    "clients_json_df_bronze = (\n",
    "    clients_json_df\n",
    "    .withColumn('system', F.lit('sap'))\n",
    "    .withColumn('processed_at', F.current_timestamp())\n",
    "    .withColumn(\n",
    "        'nationality',\n",
    "        F.when(\n",
    "            F.round(F.rand() * 2 + 1).cast(\"int\") == 1, F.lit('BRAZILIAN')\n",
    "        ).otherwise(F.lit('NOT_BRAZILIAN')))\n",
    ")"
   ]
  },
  {
   "cell_type": "code",
   "execution_count": 6,
   "id": "cec54d97-2cc9-4ca1-a041-cde6923c642d",
   "metadata": {},
   "outputs": [
    {
     "name": "stdout",
     "output_type": "stream",
     "text": [
      "+--------------------+--------------------+-----------------+--------------------+------+--------------------+-------------+\n",
      "|             address|               email|             name|        phone_number|system|        processed_at|  nationality|\n",
      "+--------------------+--------------------+-----------------+--------------------+------+--------------------+-------------+\n",
      "|4759 William Have...|thomas15@example.com|     Norma Fisher|  993-787-7840x80160|   sap|2025-01-11 19:30:...|NOT_BRAZILIAN|\n",
      "|28711 Golden Over...|tamaramorrison@ex...|Frederick Harrell|   671-996-5934x2320|   sap|2025-01-11 19:30:...|NOT_BRAZILIAN|\n",
      "|86848 Melissa Spr...|christopher91@exa...| Michael Anderson|    001-453-730-4135|   sap|2025-01-11 19:30:...|NOT_BRAZILIAN|\n",
      "|98910 Cynthia Res...| leetara@example.net|    Antonio Logan|        673-300-8691|   sap|2025-01-11 19:30:...|NOT_BRAZILIAN|\n",
      "|91634 Strong Moun...|   awade@example.com|     Matthew Bell|+1-269-684-5642x8...|   sap|2025-01-11 19:30:...|NOT_BRAZILIAN|\n",
      "|924 Goodman Villa...|   rpage@example.net|     Philip Olson| (206)296-0271x42787|   sap|2025-01-11 19:30:...|    BRAZILIAN|\n",
      "|81206 Stewart For...| haley21@example.com|   Eric Owens PhD|  (210)247-1428x5124|   sap|2025-01-11 19:30:...|NOT_BRAZILIAN|\n",
      "|USS Mathis\\nFPO A...| djoseph@example.net|    Michael Grant| (758)323-6940x22455|   sap|2025-01-11 19:30:...|NOT_BRAZILIAN|\n",
      "|6824 Timothy Gard...|garciaregina@exam...|    Marc Williams|  351-371-7604x52296|   sap|2025-01-11 19:30:...|    BRAZILIAN|\n",
      "|8847 Kramer Stati...|ryanhoward@exampl...| Christina Walker|001-408-373-1764x303|   sap|2025-01-11 19:30:...|NOT_BRAZILIAN|\n",
      "+--------------------+--------------------+-----------------+--------------------+------+--------------------+-------------+\n",
      "only showing top 10 rows\n",
      "\n"
     ]
    }
   ],
   "source": [
    "clients_json_df_bronze.show(10)"
   ]
  },
  {
   "cell_type": "code",
   "execution_count": 7,
   "id": "118ed80f-c001-4545-85ba-71d3716599bd",
   "metadata": {},
   "outputs": [],
   "source": [
    "( \n",
    "    clients_json_df_bronze\n",
    "    .write\n",
    "    .mode('overwrite')\n",
    "    .partitionBy('nationality')\n",
    "    .parquet(\"s3a://bronze-zone/dataway/sap/clients\")\n",
    ")"
   ]
  },
  {
   "cell_type": "code",
   "execution_count": 8,
   "id": "939458cc-0689-4766-915c-5e7395ae74ae",
   "metadata": {},
   "outputs": [
    {
     "data": {
      "text/plain": [
       "1"
      ]
     },
     "execution_count": 8,
     "metadata": {},
     "output_type": "execute_result"
    }
   ],
   "source": [
    "clients_json_df_bronze.rdd.getNumPartitions()"
   ]
  },
  {
   "cell_type": "code",
   "execution_count": 9,
   "id": "910b3ce7-fd97-4747-9c5a-c81a0976d53b",
   "metadata": {},
   "outputs": [],
   "source": [
    "df = ( \n",
    "    spark\n",
    "    .read\n",
    "    .parquet(\"s3a://bronze-zone/dataway/sap/clients\")\n",
    ")"
   ]
  },
  {
   "cell_type": "code",
   "execution_count": 10,
   "id": "933a806c-7f17-4f87-bd82-191d235a922f",
   "metadata": {},
   "outputs": [
    {
     "data": {
      "text/plain": [
       "2"
      ]
     },
     "execution_count": 10,
     "metadata": {},
     "output_type": "execute_result"
    }
   ],
   "source": [
    "df.rdd.getNumPartitions()"
   ]
  },
  {
   "cell_type": "markdown",
   "id": "81b4f69f-0381-4b14-ac41-e97b7819e6c5",
   "metadata": {},
   "source": [
    "# Coalesce vs Repartition"
   ]
  },
  {
   "cell_type": "code",
   "execution_count": null,
   "id": "61599ac0-9b97-4435-91c8-72fc7277306c",
   "metadata": {},
   "outputs": [],
   "source": [
    "# Coalesce (Sempre use para reduzir o número de partições)\n",
    "# Repartition (Sempre use para aumentar o número de partiçōes)"
   ]
  },
  {
   "cell_type": "code",
   "execution_count": 11,
   "id": "4137fbd7-1204-4180-b8d8-e287a4c6f3b7",
   "metadata": {},
   "outputs": [],
   "source": [
    "df = df.coalesce(1)"
   ]
  },
  {
   "cell_type": "code",
   "execution_count": 12,
   "id": "da58fb37-cd0e-4af5-9918-e25b849e826a",
   "metadata": {},
   "outputs": [
    {
     "data": {
      "text/plain": [
       "1"
      ]
     },
     "execution_count": 12,
     "metadata": {},
     "output_type": "execute_result"
    }
   ],
   "source": [
    "df.rdd.getNumPartitions()"
   ]
  },
  {
   "cell_type": "code",
   "execution_count": 13,
   "id": "5925608c-9254-4142-9c1b-32bb9f25f53b",
   "metadata": {},
   "outputs": [],
   "source": [
    "df = df.repartition(5)"
   ]
  },
  {
   "cell_type": "code",
   "execution_count": 14,
   "id": "45d6fb52-bea4-4488-acb0-c5ff78298f5c",
   "metadata": {},
   "outputs": [
    {
     "data": {
      "text/plain": [
       "5"
      ]
     },
     "execution_count": 14,
     "metadata": {},
     "output_type": "execute_result"
    }
   ],
   "source": [
    "df.rdd.getNumPartitions()"
   ]
  },
  {
   "cell_type": "code",
   "execution_count": 15,
   "id": "7026df78-be97-4364-b87b-a2a1393e47a4",
   "metadata": {},
   "outputs": [],
   "source": [
    "( \n",
    "    df\n",
    "    .write\n",
    "    .mode('overwrite')\n",
    "    .partitionBy('nationality')\n",
    "    .parquet(\"s3a://bronze-zone/dataway/sap/clients\")\n",
    ")"
   ]
  },
  {
   "cell_type": "code",
   "execution_count": null,
   "id": "fa376515-ea4e-4ec2-bc27-52fd3dcb3ead",
   "metadata": {},
   "outputs": [],
   "source": []
  }
 ],
 "metadata": {
  "kernelspec": {
   "display_name": "Python 3 (ipykernel)",
   "language": "python",
   "name": "python3"
  },
  "language_info": {
   "codemirror_mode": {
    "name": "ipython",
    "version": 3
   },
   "file_extension": ".py",
   "mimetype": "text/x-python",
   "name": "python",
   "nbconvert_exporter": "python",
   "pygments_lexer": "ipython3",
   "version": "3.11.6"
  }
 },
 "nbformat": 4,
 "nbformat_minor": 5
}
