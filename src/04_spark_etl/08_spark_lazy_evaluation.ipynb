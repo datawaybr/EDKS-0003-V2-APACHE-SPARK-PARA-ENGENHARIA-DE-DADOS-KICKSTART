{
 "cells": [
  {
   "cell_type": "code",
   "execution_count": null,
   "id": "df3e4f97-90dc-4cf0-82ef-14f713e1b3f1",
   "metadata": {},
   "outputs": [],
   "source": [
    "from pyspark.sql import SparkSession\n",
    "from pyspark.sql import functions as F"
   ]
  },
  {
   "cell_type": "code",
   "execution_count": 2,
   "id": "e8490c0a-b816-4e47-9cb4-eec43727347b",
   "metadata": {},
   "outputs": [],
   "source": [
    "spark = SparkSession.builder \\\n",
    "    .appName(\"MinIO\") \\\n",
    "    .master(\"local[*]\") \\\n",
    "    .config(\"spark.jars.packages\", \"org.apache.hadoop:hadoop-aws:3.3.1\") \\\n",
    "    .config(\"spark.hadoop.fs.s3a.endpoint\", \"http://host.docker.internal:9000\") \\\n",
    "    .config(\"spark.hadoop.fs.s3a.access.key\", \"MinioAdmin123\") \\\n",
    "    .config(\"spark.hadoop.fs.s3a.secret.key\", \"MinioAdmin123\") \\\n",
    "    .config(\"spark.hadoop.fs.s3a.path.style.access\", \"true\") \\\n",
    "    .config(\"spark.hadoop.fs.s3a.impl\", \"org.apache.hadoop.fs.s3a.S3AFileSystem\") \\\n",
    "    .config(\"spark.driver.bindAddress\",\"0.0.0.0\") \\\n",
    "    .config(\"spark.ui.port\",\"4050\") \\\n",
    "    .getOrCreate()\n",
    "\n",
    "spark.sparkContext.setLogLevel(\"WARN\")"
   ]
  },
  {
   "cell_type": "code",
   "execution_count": 3,
   "id": "ab4616a0-cf24-455d-b6b5-d3e15bddcb21",
   "metadata": {},
   "outputs": [
    {
     "data": {
      "text/html": [
       "\n",
       "            <div>\n",
       "                <p><b>SparkSession - in-memory</b></p>\n",
       "                \n",
       "        <div>\n",
       "            <p><b>SparkContext</b></p>\n",
       "\n",
       "            <p><a href=\"http://1fa5cd5ab09a:4051\">Spark UI</a></p>\n",
       "\n",
       "            <dl>\n",
       "              <dt>Version</dt>\n",
       "                <dd><code>v3.5.0</code></dd>\n",
       "              <dt>Master</dt>\n",
       "                <dd><code>local[*]</code></dd>\n",
       "              <dt>AppName</dt>\n",
       "                <dd><code>MinIO</code></dd>\n",
       "            </dl>\n",
       "        </div>\n",
       "        \n",
       "            </div>\n",
       "        "
      ],
      "text/plain": [
       "<pyspark.sql.session.SparkSession at 0xffff50c7e250>"
      ]
     },
     "execution_count": 3,
     "metadata": {},
     "output_type": "execute_result"
    }
   ],
   "source": [
    "spark"
   ]
  },
  {
   "cell_type": "code",
   "execution_count": 4,
   "id": "d967988e-7bde-4a57-909e-b955dda49728",
   "metadata": {},
   "outputs": [],
   "source": [
    "df = (\n",
    "    spark\n",
    "    .read\n",
    "    .option(\"header\", \"true\")\n",
    "    .option(\"inferSchema\", \"true\")\n",
    "    .option(\"delimiter\", \",\")\n",
    "    .csv(\"s3a://landing-zone/dataway/protheus/clients\")\n",
    ")"
   ]
  },
  {
   "cell_type": "code",
   "execution_count": 5,
   "id": "81e417fa-42ee-4903-94b8-4e099558afda",
   "metadata": {},
   "outputs": [
    {
     "name": "stdout",
     "output_type": "stream",
     "text": [
      "root\n",
      " |-- name: string (nullable = true)\n",
      " |-- address: string (nullable = true)\n",
      " |-- email: string (nullable = true)\n",
      " |-- phone_number: string (nullable = true)\n",
      "\n"
     ]
    }
   ],
   "source": [
    "# Apply transformations on the DataFrame (lazy evaluation)\n",
    "filtered_df = df.filter(df['email'].isNull())\n",
    "\n",
    "# Show the schema of the DataFrame\n",
    "filtered_df.printSchema()"
   ]
  },
  {
   "cell_type": "code",
   "execution_count": 6,
   "id": "09547fb2-80a0-4f11-a3e7-672deb6d24a7",
   "metadata": {},
   "outputs": [
    {
     "name": "stdout",
     "output_type": "stream",
     "text": [
      "+-----------------+--------------------+-----+------------+\n",
      "|             name|             address|email|phone_number|\n",
      "+-----------------+--------------------+-----+------------+\n",
      "|     Norma Fisher|4759 William Have...| NULL|        NULL|\n",
      "|Frederick Harrell|28711 Golden Over...| NULL|        NULL|\n",
      "| Michael Anderson|86848 Melissa Spr...| NULL|        NULL|\n",
      "|    Antonio Logan|  98910 Cynthia Rest| NULL|        NULL|\n",
      "|     Matthew Bell|91634 Strong Moun...| NULL|        NULL|\n",
      "|     Philip Olson|924 Goodman Villa...| NULL|        NULL|\n",
      "|   Eric Owens PhD|81206 Stewart For...| NULL|        NULL|\n",
      "|    Michael Grant|          USS Mathis| NULL|        NULL|\n",
      "|    Marc Williams|6824 Timothy Gard...| NULL|        NULL|\n",
      "| Christina Walker| 8847 Kramer Station| NULL|        NULL|\n",
      "|      James Payne|96687 Bass Parks ...| NULL|        NULL|\n",
      "|       Eric Blake|75868 Audrey Springs| NULL|        NULL|\n",
      "|Elizabeth Russell|23450 Timothy Divide| NULL|        NULL|\n",
      "|      Joshua Reed|09795 Tara Statio...| NULL|        NULL|\n",
      "|   Theresa Thomas|16116 Jessica Bur...| NULL|        NULL|\n",
      "|   Matthew Dennis|  PSC 0450, Box 9322| NULL|        NULL|\n",
      "|      Kevin Moore|  PSC 2358, Box 3324| NULL|        NULL|\n",
      "|   Angela Wallace|    6065 Harris Hill| NULL|        NULL|\n",
      "|   Mr. Aaron Hale| 41489 Roger Terrace| NULL|        NULL|\n",
      "|    Amanda Sparks|83216 Campbell Da...| NULL|        NULL|\n",
      "+-----------------+--------------------+-----+------------+\n",
      "only showing top 20 rows\n",
      "\n"
     ]
    }
   ],
   "source": [
    "# Perform an action to trigger the execution of transformations\n",
    "result = filtered_df.show()"
   ]
  },
  {
   "cell_type": "code",
   "execution_count": null,
   "id": "9fd0933d-58c5-4e27-b3ca-7d9453b18ff9",
   "metadata": {},
   "outputs": [],
   "source": []
  }
 ],
 "metadata": {
  "kernelspec": {
   "display_name": "Python 3 (ipykernel)",
   "language": "python",
   "name": "python3"
  },
  "language_info": {
   "codemirror_mode": {
    "name": "ipython",
    "version": 3
   },
   "file_extension": ".py",
   "mimetype": "text/x-python",
   "name": "python",
   "nbconvert_exporter": "python",
   "pygments_lexer": "ipython3",
   "version": "3.11.6"
  }
 },
 "nbformat": 4,
 "nbformat_minor": 5
}
