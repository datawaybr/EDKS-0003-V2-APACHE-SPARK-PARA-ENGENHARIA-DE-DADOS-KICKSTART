{
 "cells": [
  {
   "cell_type": "code",
   "execution_count": 1,
   "id": "df3e4f97-90dc-4cf0-82ef-14f713e1b3f1",
   "metadata": {},
   "outputs": [],
   "source": [
    "from pyspark.sql import SparkSession\n",
    "from pyspark.sql import functions as F"
   ]
  },
  {
   "cell_type": "code",
   "execution_count": 2,
   "id": "e8490c0a-b816-4e47-9cb4-eec43727347b",
   "metadata": {},
   "outputs": [],
   "source": [
    "spark = SparkSession.builder \\\n",
    "    .appName(\"MinIO\") \\\n",
    "    .master(\"local[*]\") \\\n",
    "    .config(\"spark.jars.packages\", \"org.apache.hadoop:hadoop-aws:3.3.1\") \\\n",
    "    .config(\"spark.hadoop.fs.s3a.endpoint\", \"http://host.docker.internal:9000\") \\\n",
    "    .config(\"spark.hadoop.fs.s3a.access.key\", \"MinioAdmin123\") \\\n",
    "    .config(\"spark.hadoop.fs.s3a.secret.key\", \"MinioAdmin123\") \\\n",
    "    .config(\"spark.hadoop.fs.s3a.path.style.access\", \"true\") \\\n",
    "    .config(\"spark.hadoop.fs.s3a.impl\", \"org.apache.hadoop.fs.s3a.S3AFileSystem\") \\\n",
    "    .getOrCreate()"
   ]
  },
  {
   "cell_type": "code",
   "execution_count": 3,
   "id": "ab4616a0-cf24-455d-b6b5-d3e15bddcb21",
   "metadata": {},
   "outputs": [
    {
     "data": {
      "text/html": [
       "\n",
       "            <div>\n",
       "                <p><b>SparkSession - in-memory</b></p>\n",
       "                \n",
       "        <div>\n",
       "            <p><b>SparkContext</b></p>\n",
       "\n",
       "            <p><a href=\"http://b9823aacd5e2:4046\">Spark UI</a></p>\n",
       "\n",
       "            <dl>\n",
       "              <dt>Version</dt>\n",
       "                <dd><code>v3.5.0</code></dd>\n",
       "              <dt>Master</dt>\n",
       "                <dd><code>local[*]</code></dd>\n",
       "              <dt>AppName</dt>\n",
       "                <dd><code>MinIO</code></dd>\n",
       "            </dl>\n",
       "        </div>\n",
       "        \n",
       "            </div>\n",
       "        "
      ],
      "text/plain": [
       "<pyspark.sql.session.SparkSession at 0xffff5c9fe590>"
      ]
     },
     "execution_count": 3,
     "metadata": {},
     "output_type": "execute_result"
    }
   ],
   "source": [
    "spark"
   ]
  },
  {
   "cell_type": "code",
   "execution_count": 4,
   "id": "d967988e-7bde-4a57-909e-b955dda49728",
   "metadata": {},
   "outputs": [],
   "source": [
    "clients_json_df = (\n",
    "    spark\n",
    "    .read\n",
    "    .option(\"inferSchema\", \"true\")\n",
    "    .json(\"s3a://landing-zone/dataway/sap/clients\")\n",
    ")"
   ]
  },
  {
   "cell_type": "code",
   "execution_count": 5,
   "id": "640227e2-2560-42b1-bf8c-4905e269d9de",
   "metadata": {},
   "outputs": [],
   "source": [
    "clients_json_df_bronze = (\n",
    "    clients_json_df\n",
    "    .withColumn('system', F.lit('sap'))\n",
    "    .withColumn('processed_at', F.current_timestamp())\n",
    "    .withColumn(\n",
    "        'nationality',\n",
    "        F.when(\n",
    "            F.round(F.rand() * 2 + 1).cast(\"int\") == 1, F.lit('BRAZILIAN')\n",
    "        ).otherwise(F.lit('NOT_BRAZILIAN')))\n",
    ")"
   ]
  },
  {
   "cell_type": "code",
   "execution_count": 6,
   "id": "cec54d97-2cc9-4ca1-a041-cde6923c642d",
   "metadata": {},
   "outputs": [
    {
     "name": "stdout",
     "output_type": "stream",
     "text": [
      "+--------------------+--------------------+----------------+--------------------+------+--------------------+-------------+\n",
      "|             address|               email|            name|        phone_number|system|        processed_at|  nationality|\n",
      "+--------------------+--------------------+----------------+--------------------+------+--------------------+-------------+\n",
      "|6351 Travis Stree...|   ecook@example.com| Mark Malone PhD| +1-772-334-7852x342|   sap|2024-12-22 18:30:...|NOT_BRAZILIAN|\n",
      "|20780 Brown Circl...| ymorris@example.net|    Tina Cabrera|   304.681.4095x1771|   sap|2024-12-22 18:30:...|NOT_BRAZILIAN|\n",
      "|07502 Martinez Sq...|cynthiaperez@exam...|   Monique Simon|+1-380-504-3760x0173|   sap|2024-12-22 18:30:...|    BRAZILIAN|\n",
      "|847 Sanders Falls...|jessica85@example...|    Donald Blake|  588.451.5239x92873|   sap|2024-12-22 18:30:...|NOT_BRAZILIAN|\n",
      "|0721 Wanda Green\\...|wilkersonjohn@exa...|  Robin Jennings|001-738-415-8625x382|   sap|2024-12-22 18:30:...|NOT_BRAZILIAN|\n",
      "|68494 Kimberly Wa...|elizabeth63@examp...|  Dennis Jackson|  947.570.6595x16035|   sap|2024-12-22 18:30:...|NOT_BRAZILIAN|\n",
      "|41442 Harper Summ...| xpowers@example.net|  Debbie Johnson|       (898)454-0907|   sap|2024-12-22 18:30:...|    BRAZILIAN|\n",
      "|61972 Lambert Ter...|kristiemurphy@exa...| Dustin Mitchell|   978-975-0981x0737|   sap|2024-12-22 18:30:...|NOT_BRAZILIAN|\n",
      "|77174 Martinez St...| janet67@example.org|Kenneth Gonzales|    381.519.9151x251|   sap|2024-12-22 18:30:...|NOT_BRAZILIAN|\n",
      "|55601 Perez Ford\\...|cortezphillip@exa...|    Elijah Nixon| (697)706-3700x25300|   sap|2024-12-22 18:30:...|NOT_BRAZILIAN|\n",
      "+--------------------+--------------------+----------------+--------------------+------+--------------------+-------------+\n",
      "only showing top 10 rows\n",
      "\n"
     ]
    }
   ],
   "source": [
    "clients_json_df_bronze.show(10)"
   ]
  },
  {
   "cell_type": "code",
   "execution_count": 7,
   "id": "118ed80f-c001-4545-85ba-71d3716599bd",
   "metadata": {},
   "outputs": [],
   "source": [
    "( \n",
    "    clients_json_df_bronze\n",
    "    .write\n",
    "    .mode('overwrite')\n",
    "    .partitionBy('nationality')\n",
    "    .parquet(\"s3a://bronze-zone/dataway/sap/clients\")\n",
    ")"
   ]
  },
  {
   "cell_type": "code",
   "execution_count": 8,
   "id": "939458cc-0689-4766-915c-5e7395ae74ae",
   "metadata": {},
   "outputs": [
    {
     "data": {
      "text/plain": [
       "1"
      ]
     },
     "execution_count": 8,
     "metadata": {},
     "output_type": "execute_result"
    }
   ],
   "source": [
    "clients_json_df_bronze.rdd.getNumPartitions()"
   ]
  },
  {
   "cell_type": "code",
   "execution_count": 9,
   "id": "910b3ce7-fd97-4747-9c5a-c81a0976d53b",
   "metadata": {},
   "outputs": [],
   "source": [
    "df = ( \n",
    "    spark\n",
    "    .read\n",
    "    .parquet(\"s3a://bronze-zone/dataway/sap/clients\")\n",
    ")"
   ]
  },
  {
   "cell_type": "code",
   "execution_count": 10,
   "id": "933a806c-7f17-4f87-bd82-191d235a922f",
   "metadata": {},
   "outputs": [
    {
     "data": {
      "text/plain": [
       "2"
      ]
     },
     "execution_count": 10,
     "metadata": {},
     "output_type": "execute_result"
    }
   ],
   "source": [
    "df.rdd.getNumPartitions()"
   ]
  },
  {
   "cell_type": "markdown",
   "id": "81b4f69f-0381-4b14-ac41-e97b7819e6c5",
   "metadata": {},
   "source": [
    "# Coalesce vs Repartition"
   ]
  },
  {
   "cell_type": "code",
   "execution_count": 11,
   "id": "61599ac0-9b97-4435-91c8-72fc7277306c",
   "metadata": {},
   "outputs": [],
   "source": [
    "# Coalesce (Sempre use para reduzir o número de partições)\n",
    "# Repartition (Sempre use para aumentar o número de partiçōes)"
   ]
  },
  {
   "cell_type": "code",
   "execution_count": 12,
   "id": "4137fbd7-1204-4180-b8d8-e287a4c6f3b7",
   "metadata": {},
   "outputs": [],
   "source": [
    "df = df.coalesce(1)"
   ]
  },
  {
   "cell_type": "code",
   "execution_count": 13,
   "id": "da58fb37-cd0e-4af5-9918-e25b849e826a",
   "metadata": {},
   "outputs": [
    {
     "data": {
      "text/plain": [
       "1"
      ]
     },
     "execution_count": 13,
     "metadata": {},
     "output_type": "execute_result"
    }
   ],
   "source": [
    "df.rdd.getNumPartitions()"
   ]
  },
  {
   "cell_type": "code",
   "execution_count": 14,
   "id": "5925608c-9254-4142-9c1b-32bb9f25f53b",
   "metadata": {},
   "outputs": [],
   "source": [
    "df = df.repartition(5)"
   ]
  },
  {
   "cell_type": "code",
   "execution_count": 15,
   "id": "45d6fb52-bea4-4488-acb0-c5ff78298f5c",
   "metadata": {},
   "outputs": [
    {
     "data": {
      "text/plain": [
       "5"
      ]
     },
     "execution_count": 15,
     "metadata": {},
     "output_type": "execute_result"
    }
   ],
   "source": [
    "df.rdd.getNumPartitions()"
   ]
  },
  {
   "cell_type": "code",
   "execution_count": 16,
   "id": "7026df78-be97-4364-b87b-a2a1393e47a4",
   "metadata": {},
   "outputs": [],
   "source": [
    "( \n",
    "    df\n",
    "    .write\n",
    "    .mode('overwrite')\n",
    "    .partitionBy('nationality')\n",
    "    .parquet(\"s3a://bronze-zone/dataway/sap/clients\")\n",
    ")"
   ]
  },
  {
   "cell_type": "code",
   "execution_count": null,
   "id": "fa376515-ea4e-4ec2-bc27-52fd3dcb3ead",
   "metadata": {},
   "outputs": [],
   "source": []
  }
 ],
 "metadata": {
  "kernelspec": {
   "display_name": "Python 3 (ipykernel)",
   "language": "python",
   "name": "python3"
  },
  "language_info": {
   "codemirror_mode": {
    "name": "ipython",
    "version": 3
   },
   "file_extension": ".py",
   "mimetype": "text/x-python",
   "name": "python",
   "nbconvert_exporter": "python",
   "pygments_lexer": "ipython3",
   "version": "3.11.6"
  }
 },
 "nbformat": 4,
 "nbformat_minor": 5
}
