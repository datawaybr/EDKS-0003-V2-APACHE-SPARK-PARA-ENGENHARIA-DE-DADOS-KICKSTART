{
 "cells": [
  {
   "cell_type": "code",
   "execution_count": 1,
   "id": "df3e4f97-90dc-4cf0-82ef-14f713e1b3f1",
   "metadata": {},
   "outputs": [],
   "source": [
    "from pyspark.sql import SparkSession\n",
    "from pyspark.sql import functions as F"
   ]
  },
  {
   "cell_type": "code",
   "execution_count": 2,
   "id": "e8490c0a-b816-4e47-9cb4-eec43727347b",
   "metadata": {},
   "outputs": [],
   "source": [
    "spark = SparkSession.builder \\\n",
    "    .appName(\"MinIO\") \\\n",
    "    .master(\"local[*]\") \\\n",
    "    .config(\"spark.jars.packages\", \"org.apache.hadoop:hadoop-aws:3.3.1\") \\\n",
    "    .config(\"spark.hadoop.fs.s3a.endpoint\", \"http://host.docker.internal:9000\") \\\n",
    "    .config(\"spark.hadoop.fs.s3a.access.key\", \"MinioAdmin123\") \\\n",
    "    .config(\"spark.hadoop.fs.s3a.secret.key\", \"MinioAdmin123\") \\\n",
    "    .config(\"spark.hadoop.fs.s3a.path.style.access\", \"true\") \\\n",
    "    .config(\"spark.hadoop.fs.s3a.impl\", \"org.apache.hadoop.fs.s3a.S3AFileSystem\") \\\n",
    "    .getOrCreate()"
   ]
  },
  {
   "cell_type": "code",
   "execution_count": 3,
   "id": "ab4616a0-cf24-455d-b6b5-d3e15bddcb21",
   "metadata": {},
   "outputs": [
    {
     "data": {
      "text/html": [
       "\n",
       "            <div>\n",
       "                <p><b>SparkSession - in-memory</b></p>\n",
       "                \n",
       "        <div>\n",
       "            <p><b>SparkContext</b></p>\n",
       "\n",
       "            <p><a href=\"http://b9823aacd5e2:4044\">Spark UI</a></p>\n",
       "\n",
       "            <dl>\n",
       "              <dt>Version</dt>\n",
       "                <dd><code>v3.5.0</code></dd>\n",
       "              <dt>Master</dt>\n",
       "                <dd><code>local[*]</code></dd>\n",
       "              <dt>AppName</dt>\n",
       "                <dd><code>MinIO</code></dd>\n",
       "            </dl>\n",
       "        </div>\n",
       "        \n",
       "            </div>\n",
       "        "
      ],
      "text/plain": [
       "<pyspark.sql.session.SparkSession at 0xffff5f8fea10>"
      ]
     },
     "execution_count": 3,
     "metadata": {},
     "output_type": "execute_result"
    }
   ],
   "source": [
    "spark"
   ]
  },
  {
   "cell_type": "code",
   "execution_count": 4,
   "id": "d967988e-7bde-4a57-909e-b955dda49728",
   "metadata": {},
   "outputs": [],
   "source": [
    "clients_json_df = (\n",
    "    spark\n",
    "    .read\n",
    "    .option(\"inferSchema\", \"true\")\n",
    "    .json(\"s3a://landing-zone/dataway/sap/clients\")\n",
    ")"
   ]
  },
  {
   "cell_type": "code",
   "execution_count": 5,
   "id": "4d762158-b73e-4963-bf44-0ed4c0eb641b",
   "metadata": {},
   "outputs": [
    {
     "name": "stdout",
     "output_type": "stream",
     "text": [
      "+------------------------------------------------------------+----------------------------+----------------+---------------------+\n",
      "|address                                                     |email                       |name            |phone_number         |\n",
      "+------------------------------------------------------------+----------------------------+----------------+---------------------+\n",
      "|6351 Travis Streets Suite 163\\nChoibury, MI 54268           |ecook@example.com           |Mark Malone PhD |+1-772-334-7852x342  |\n",
      "|20780 Brown Circle Apt. 437\\nSouth Shannonview, CO 50610    |ymorris@example.net         |Tina Cabrera    |304.681.4095x1771    |\n",
      "|07502 Martinez Squares Apt. 052\\nRamirezborough, VT 60381   |cynthiaperez@example.net    |Monique Simon   |+1-380-504-3760x0173 |\n",
      "|847 Sanders Falls\\nPort Pamelamouth, NM 41906               |jessica85@example.net       |Donald Blake    |588.451.5239x92873   |\n",
      "|0721 Wanda Green\\nWest Christina, MP 22049                  |wilkersonjohn@example.net   |Robin Jennings  |001-738-415-8625x382 |\n",
      "|68494 Kimberly Way\\nMichaelville, LA 66309                  |elizabeth63@example.org     |Dennis Jackson  |947.570.6595x16035   |\n",
      "|41442 Harper Summit\\nCarterfurt, MT 39289                   |xpowers@example.net         |Debbie Johnson  |(898)454-0907        |\n",
      "|61972 Lambert Terrace Apt. 989\\nNew Catherinemouth, AS 39423|kristiemurphy@example.net   |Dustin Mitchell |978-975-0981x0737    |\n",
      "|77174 Martinez Stream Suite 641\\nNicoleview, NE 01724       |janet67@example.org         |Kenneth Gonzales|381.519.9151x251     |\n",
      "|55601 Perez Ford\\nNew Jennifer, UT 14563                    |cortezphillip@example.com   |Elijah Nixon    |(697)706-3700x25300  |\n",
      "|08991 Peck Bridge\\nThomasberg, NY 22341                     |heather68@example.org       |Cynthia Salazar |4139933910           |\n",
      "|54569 Simmons Summit Apt. 710\\nLake Pamela, MH 46982        |bakermark@example.net       |Ryan Mcdonald   |+1-338-618-0996x848  |\n",
      "|218 Harrington Estates\\nKathychester, AR 74519              |perryjavier@example.com     |Ralph Ray       |(641)515-5620x78977  |\n",
      "|62604 Smith Hill\\nWarrenborough, SD 24708                   |feliciarodriguez@example.net|Peter Martinez  |001-525-540-4345     |\n",
      "|20460 Barnes Drive Suite 017\\nCodyberg, VA 15382            |terrybrian@example.net      |Kathleen Jenkins|(519)226-9821x065    |\n",
      "|Unit 9038 Box 1540\\nDPO AE 20678                            |jamestorres@example.net     |Joshua Wilson   |+1-941-482-1649x33027|\n",
      "|442 Kevin Expressway Apt. 018\\nLuisburgh, LA 18077          |lrivera@example.com         |Clarence Harris |(470)527-7076        |\n",
      "|760 Mullins Causeway Suite 304\\nButlerborough, CT 38102     |joneskelsey@example.com     |Rebecca Jones   |424-285-6175         |\n",
      "|57993 Dana Station Apt. 180\\nKennethmouth, AZ 52310         |brooksjoseph@example.org    |Thomas Carpenter|(929)289-2544x884    |\n",
      "|64255 Hannah Pike Suite 707\\nPort Alan, LA 83930            |michael05@example.net       |Karina Dickson  |214-249-5912x932     |\n",
      "+------------------------------------------------------------+----------------------------+----------------+---------------------+\n",
      "only showing top 20 rows\n",
      "\n"
     ]
    }
   ],
   "source": [
    "clients_json_df.show(truncate=False)"
   ]
  },
  {
   "cell_type": "code",
   "execution_count": 6,
   "id": "640227e2-2560-42b1-bf8c-4905e269d9de",
   "metadata": {},
   "outputs": [],
   "source": [
    "clients_json_df_bronze_df_api = (\n",
    "    clients_json_df\n",
    "    .withColumn('system', F.lit('sap'))\n",
    "    .withColumn('processed_at', F.current_timestamp())\n",
    ")"
   ]
  },
  {
   "cell_type": "code",
   "execution_count": 8,
   "id": "4d2fe86a-3fe4-4d83-b25b-c25897364857",
   "metadata": {},
   "outputs": [
    {
     "name": "stdout",
     "output_type": "stream",
     "text": [
      "+--------------------+--------------------+---------------+--------------------+------+--------------------+\n",
      "|             address|               email|           name|        phone_number|system|        processed_at|\n",
      "+--------------------+--------------------+---------------+--------------------+------+--------------------+\n",
      "|6351 Travis Stree...|   ecook@example.com|Mark Malone PhD| +1-772-334-7852x342|   sap|2024-12-22 18:10:...|\n",
      "|20780 Brown Circl...| ymorris@example.net|   Tina Cabrera|   304.681.4095x1771|   sap|2024-12-22 18:10:...|\n",
      "|07502 Martinez Sq...|cynthiaperez@exam...|  Monique Simon|+1-380-504-3760x0173|   sap|2024-12-22 18:10:...|\n",
      "|847 Sanders Falls...|jessica85@example...|   Donald Blake|  588.451.5239x92873|   sap|2024-12-22 18:10:...|\n",
      "|0721 Wanda Green\\...|wilkersonjohn@exa...| Robin Jennings|001-738-415-8625x382|   sap|2024-12-22 18:10:...|\n",
      "+--------------------+--------------------+---------------+--------------------+------+--------------------+\n",
      "only showing top 5 rows\n",
      "\n"
     ]
    }
   ],
   "source": [
    "clients_json_df_bronze_df_api.show(5)"
   ]
  },
  {
   "cell_type": "code",
   "execution_count": 9,
   "id": "e9b44a99-5e0a-4f3d-b839-4240a05aee09",
   "metadata": {},
   "outputs": [],
   "source": [
    "clients_json_df_bronze_sql = spark.sql(\"\"\"\n",
    "        SELECT *, \n",
    "               'sap' as system,\n",
    "               current_timestamp() as processed_at\n",
    "        FROM {clients_json_df}\n",
    "    \"\"\",\n",
    "    clients_json_df=clients_json_df\n",
    ")"
   ]
  },
  {
   "cell_type": "code",
   "execution_count": 10,
   "id": "37082639-6317-4045-8566-4ff4acf7d134",
   "metadata": {},
   "outputs": [
    {
     "name": "stdout",
     "output_type": "stream",
     "text": [
      "+--------------------+--------------------+---------------+--------------------+------+--------------------+\n",
      "|             address|               email|           name|        phone_number|system|        processed_at|\n",
      "+--------------------+--------------------+---------------+--------------------+------+--------------------+\n",
      "|6351 Travis Stree...|   ecook@example.com|Mark Malone PhD| +1-772-334-7852x342|   sap|2024-12-22 18:10:...|\n",
      "|20780 Brown Circl...| ymorris@example.net|   Tina Cabrera|   304.681.4095x1771|   sap|2024-12-22 18:10:...|\n",
      "|07502 Martinez Sq...|cynthiaperez@exam...|  Monique Simon|+1-380-504-3760x0173|   sap|2024-12-22 18:10:...|\n",
      "|847 Sanders Falls...|jessica85@example...|   Donald Blake|  588.451.5239x92873|   sap|2024-12-22 18:10:...|\n",
      "|0721 Wanda Green\\...|wilkersonjohn@exa...| Robin Jennings|001-738-415-8625x382|   sap|2024-12-22 18:10:...|\n",
      "+--------------------+--------------------+---------------+--------------------+------+--------------------+\n",
      "only showing top 5 rows\n",
      "\n"
     ]
    }
   ],
   "source": [
    "clients_json_df_bronze_sql.show(5)"
   ]
  }
 ],
 "metadata": {
  "kernelspec": {
   "display_name": "Python 3 (ipykernel)",
   "language": "python",
   "name": "python3"
  },
  "language_info": {
   "codemirror_mode": {
    "name": "ipython",
    "version": 3
   },
   "file_extension": ".py",
   "mimetype": "text/x-python",
   "name": "python",
   "nbconvert_exporter": "python",
   "pygments_lexer": "ipython3",
   "version": "3.11.6"
  }
 },
 "nbformat": 4,
 "nbformat_minor": 5
}
