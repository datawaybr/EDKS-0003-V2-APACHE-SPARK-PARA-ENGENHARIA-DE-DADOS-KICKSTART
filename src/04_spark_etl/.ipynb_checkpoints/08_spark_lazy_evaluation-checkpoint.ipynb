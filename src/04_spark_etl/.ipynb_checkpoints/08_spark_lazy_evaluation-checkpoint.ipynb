{
 "cells": [
  {
   "cell_type": "code",
   "execution_count": 1,
   "id": "df3e4f97-90dc-4cf0-82ef-14f713e1b3f1",
   "metadata": {},
   "outputs": [],
   "source": [
    "from pyspark.sql import SparkSession\n",
    "from pyspark.sql import functions as F"
   ]
  },
  {
   "cell_type": "code",
   "execution_count": null,
   "id": "e8490c0a-b816-4e47-9cb4-eec43727347b",
   "metadata": {},
   "outputs": [],
   "source": [
    "spark = SparkSession.builder \\\n",
    "    .appName(\"MinIO\") \\\n",
    "    .master(\"local[*]\") \\\n",
    "    .config(\"spark.jars.packages\", \"org.apache.hadoop:hadoop-aws:3.3.1\") \\\n",
    "    .config(\"spark.hadoop.fs.s3a.endpoint\", \"http://host.docker.internal:9000\") \\\n",
    "    .config(\"spark.hadoop.fs.s3a.access.key\", \"MinioAdmin123\") \\\n",
    "    .config(\"spark.hadoop.fs.s3a.secret.key\", \"MinioAdmin123\") \\\n",
    "    .config(\"spark.hadoop.fs.s3a.path.style.access\", \"true\") \\\n",
    "    .config(\"spark.hadoop.fs.s3a.impl\", \"org.apache.hadoop.fs.s3a.S3AFileSystem\") \\\n",
    "    .config(\"spark.driver.bindAddress\",\"0.0.0.0\") \\\n",
    "    .config(\"spark.ui.port\",\"4050\") \\\n",
    "    .getOrCreate()\n",
    "\n",
    "spark.sparkContext.setLogLevel(\"WARN\")"
   ]
  },
  {
   "cell_type": "code",
   "execution_count": null,
   "id": "ab4616a0-cf24-455d-b6b5-d3e15bddcb21",
   "metadata": {},
   "outputs": [],
   "source": [
    "spark"
   ]
  },
  {
   "cell_type": "code",
   "execution_count": null,
   "id": "d967988e-7bde-4a57-909e-b955dda49728",
   "metadata": {},
   "outputs": [],
   "source": [
    "from typing import List\n",
    "\n",
    "def heavy_computation(spark: SparkSession, data: List[int]) -> int:\n",
    "    df = spark.createDataFrame([(x,) for x in data], [\"value\"]).repartition(100)\n",
    "    df = df.withColumn(\"result\", F.expr(\"value * 2 + 5 - 3 * value + 10\"))\n",
    "    result = df.selectExpr(\"sum(result)\").collect()[0][0]\n",
    "    return result\n",
    "\n",
    "# Generate some data\n",
    "data = list(range(1_000_000))\n",
    "\n",
    "# Perform heavy computation\n",
    "result = heavy_computation(spark, data)\n",
    "print(result)"
   ]
  },
  {
   "cell_type": "code",
   "execution_count": null,
   "id": "09547fb2-80a0-4f11-a3e7-672deb6d24a7",
   "metadata": {},
   "outputs": [],
   "source": []
  }
 ],
 "metadata": {
  "kernelspec": {
   "display_name": "Python 3 (ipykernel)",
   "language": "python",
   "name": "python3"
  },
  "language_info": {
   "codemirror_mode": {
    "name": "ipython",
    "version": 3
   },
   "file_extension": ".py",
   "mimetype": "text/x-python",
   "name": "python",
   "nbconvert_exporter": "python",
   "pygments_lexer": "ipython3",
   "version": "3.11.6"
  }
 },
 "nbformat": 4,
 "nbformat_minor": 5
}
