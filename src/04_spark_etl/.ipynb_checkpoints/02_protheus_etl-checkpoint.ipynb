{
 "cells": [
  {
   "cell_type": "code",
   "execution_count": 1,
   "id": "df3e4f97-90dc-4cf0-82ef-14f713e1b3f1",
   "metadata": {},
   "outputs": [],
   "source": [
    "from pyspark.sql import SparkSession\n",
    "from pyspark.sql import functions as F"
   ]
  },
  {
   "cell_type": "code",
   "execution_count": 2,
   "id": "e8490c0a-b816-4e47-9cb4-eec43727347b",
   "metadata": {},
   "outputs": [],
   "source": [
    "spark = SparkSession.builder \\\n",
    "    .appName(\"MinIO\") \\\n",
    "    .master(\"local[*]\") \\\n",
    "    .config(\"spark.jars.packages\", \"org.apache.hadoop:hadoop-aws:3.3.1\") \\\n",
    "    .config(\"spark.hadoop.fs.s3a.endpoint\", \"http://host.docker.internal:9000\") \\\n",
    "    .config(\"spark.hadoop.fs.s3a.access.key\", \"MinioAdmin123\") \\\n",
    "    .config(\"spark.hadoop.fs.s3a.secret.key\", \"MinioAdmin123\") \\\n",
    "    .config(\"spark.hadoop.fs.s3a.path.style.access\", \"true\") \\\n",
    "    .config(\"spark.hadoop.fs.s3a.impl\", \"org.apache.hadoop.fs.s3a.S3AFileSystem\") \\\n",
    "    .getOrCreate()"
   ]
  },
  {
   "cell_type": "code",
   "execution_count": 3,
   "id": "ab4616a0-cf24-455d-b6b5-d3e15bddcb21",
   "metadata": {},
   "outputs": [
    {
     "data": {
      "text/html": [
       "\n",
       "            <div>\n",
       "                <p><b>SparkSession - in-memory</b></p>\n",
       "                \n",
       "        <div>\n",
       "            <p><b>SparkContext</b></p>\n",
       "\n",
       "            <p><a href=\"http://b9823aacd5e2:4043\">Spark UI</a></p>\n",
       "\n",
       "            <dl>\n",
       "              <dt>Version</dt>\n",
       "                <dd><code>v3.5.0</code></dd>\n",
       "              <dt>Master</dt>\n",
       "                <dd><code>local[*]</code></dd>\n",
       "              <dt>AppName</dt>\n",
       "                <dd><code>MinIO</code></dd>\n",
       "            </dl>\n",
       "        </div>\n",
       "        \n",
       "            </div>\n",
       "        "
      ],
      "text/plain": [
       "<pyspark.sql.session.SparkSession at 0xffff5dbae450>"
      ]
     },
     "execution_count": 3,
     "metadata": {},
     "output_type": "execute_result"
    }
   ],
   "source": [
    "spark"
   ]
  },
  {
   "cell_type": "code",
   "execution_count": 4,
   "id": "b523c047-62e7-4f55-9918-715480ef0bcd",
   "metadata": {},
   "outputs": [],
   "source": [
    "clients_csv_df = (\n",
    "    spark\n",
    "    .read\n",
    "    .option(\"header\", \"true\")\n",
    "    .option(\"inferSchema\", \"true\")\n",
    "    .option(\"delimiter\", \",\")\n",
    "    .csv(\"s3a://landing-zone/dataway/protheus/clients\")\n",
    ")"
   ]
  },
  {
   "cell_type": "code",
   "execution_count": 5,
   "id": "71ee6f19-de77-4cc2-acbd-3ba1fc03c575",
   "metadata": {},
   "outputs": [
    {
     "name": "stdout",
     "output_type": "stream",
     "text": [
      "+----------------------+-------------------------------+--------------------------+---------------------+\n",
      "|name                  |address                        |email                     |phone_number         |\n",
      "+----------------------+-------------------------------+--------------------------+---------------------+\n",
      "|Norma Fisher          |4759 William Haven Apt. 194    |NULL                      |NULL                 |\n",
      "|West Corey            | CA 90152\"                     |thomas15@example.com      |993-787-7840x80160   |\n",
      "|Frederick Harrell     |28711 Golden Overpass          |NULL                      |NULL                 |\n",
      "|West Andreaville      | OH 44115\"                     |tamaramorrison@example.net|671-996-5934x2320    |\n",
      "|Michael Anderson      |86848 Melissa Springs          |NULL                      |NULL                 |\n",
      "|Rileymouth            | NM 87040\"                     |christopher91@example.com |001-453-730-4135     |\n",
      "|Antonio Logan         |98910 Cynthia Rest             |NULL                      |NULL                 |\n",
      "|South Christopherville| AZ 79865\"                     |leetara@example.net       |673-300-8691         |\n",
      "|Matthew Bell          |91634 Strong Mountains Apt. 302|NULL                      |NULL                 |\n",
      "|West Alyssa           | DE 78723\"                     |awade@example.com         |+1-269-684-5642x80715|\n",
      "|Philip Olson          |924 Goodman Village Apt. 093   |NULL                      |NULL                 |\n",
      "|Ernestbury            | SC 59238\"                     |rpage@example.net         |(206)296-0271x42787  |\n",
      "|Eric Owens PhD        |81206 Stewart Forest Apt. 089  |NULL                      |NULL                 |\n",
      "|East Davidborough     | VI 40139\"                     |haley21@example.com       |(210)247-1428x5124   |\n",
      "|Michael Grant         |USS Mathis                     |NULL                      |NULL                 |\n",
      "|FPO AP 80139\"         |djoseph@example.net            |(758)323-6940x22455       |NULL                 |\n",
      "|Marc Williams         |6824 Timothy Garden Apt. 428   |NULL                      |NULL                 |\n",
      "|West Richardmouth     | ME 54859\"                     |garciaregina@example.com  |351-371-7604x52296   |\n",
      "|Christina Walker      |8847 Kramer Station            |NULL                      |NULL                 |\n",
      "|South Christopher     | IN 34699\"                     |ryanhoward@example.org    |001-408-373-1764x303 |\n",
      "+----------------------+-------------------------------+--------------------------+---------------------+\n",
      "only showing top 20 rows\n",
      "\n"
     ]
    }
   ],
   "source": [
    "clients_csv_df.show(truncate=False)"
   ]
  },
  {
   "cell_type": "code",
   "execution_count": 6,
   "id": "4d8bf66f-6995-4f8b-bf76-2c53863b62e7",
   "metadata": {},
   "outputs": [],
   "source": [
    "clients_csv_df_bronze = (\n",
    "    clients_csv_df\n",
    "    .withColumn('system', F.lit('protheus'))\n",
    "    .withColumn('processed_at', F.current_timestamp())\n",
    ")"
   ]
  },
  {
   "cell_type": "code",
   "execution_count": 7,
   "id": "a8a4b283-4bf2-4c25-9183-aab0cacd50d6",
   "metadata": {},
   "outputs": [
    {
     "name": "stdout",
     "output_type": "stream",
     "text": [
      "+----------------------+-------------------------------+--------------------------+---------------------+--------+--------------------------+\n",
      "|name                  |address                        |email                     |phone_number         |system  |processed_at              |\n",
      "+----------------------+-------------------------------+--------------------------+---------------------+--------+--------------------------+\n",
      "|Norma Fisher          |4759 William Haven Apt. 194    |NULL                      |NULL                 |protheus|2024-12-22 17:59:29.071918|\n",
      "|West Corey            | CA 90152\"                     |thomas15@example.com      |993-787-7840x80160   |protheus|2024-12-22 17:59:29.071918|\n",
      "|Frederick Harrell     |28711 Golden Overpass          |NULL                      |NULL                 |protheus|2024-12-22 17:59:29.071918|\n",
      "|West Andreaville      | OH 44115\"                     |tamaramorrison@example.net|671-996-5934x2320    |protheus|2024-12-22 17:59:29.071918|\n",
      "|Michael Anderson      |86848 Melissa Springs          |NULL                      |NULL                 |protheus|2024-12-22 17:59:29.071918|\n",
      "|Rileymouth            | NM 87040\"                     |christopher91@example.com |001-453-730-4135     |protheus|2024-12-22 17:59:29.071918|\n",
      "|Antonio Logan         |98910 Cynthia Rest             |NULL                      |NULL                 |protheus|2024-12-22 17:59:29.071918|\n",
      "|South Christopherville| AZ 79865\"                     |leetara@example.net       |673-300-8691         |protheus|2024-12-22 17:59:29.071918|\n",
      "|Matthew Bell          |91634 Strong Mountains Apt. 302|NULL                      |NULL                 |protheus|2024-12-22 17:59:29.071918|\n",
      "|West Alyssa           | DE 78723\"                     |awade@example.com         |+1-269-684-5642x80715|protheus|2024-12-22 17:59:29.071918|\n",
      "|Philip Olson          |924 Goodman Village Apt. 093   |NULL                      |NULL                 |protheus|2024-12-22 17:59:29.071918|\n",
      "|Ernestbury            | SC 59238\"                     |rpage@example.net         |(206)296-0271x42787  |protheus|2024-12-22 17:59:29.071918|\n",
      "|Eric Owens PhD        |81206 Stewart Forest Apt. 089  |NULL                      |NULL                 |protheus|2024-12-22 17:59:29.071918|\n",
      "|East Davidborough     | VI 40139\"                     |haley21@example.com       |(210)247-1428x5124   |protheus|2024-12-22 17:59:29.071918|\n",
      "|Michael Grant         |USS Mathis                     |NULL                      |NULL                 |protheus|2024-12-22 17:59:29.071918|\n",
      "|FPO AP 80139\"         |djoseph@example.net            |(758)323-6940x22455       |NULL                 |protheus|2024-12-22 17:59:29.071918|\n",
      "|Marc Williams         |6824 Timothy Garden Apt. 428   |NULL                      |NULL                 |protheus|2024-12-22 17:59:29.071918|\n",
      "|West Richardmouth     | ME 54859\"                     |garciaregina@example.com  |351-371-7604x52296   |protheus|2024-12-22 17:59:29.071918|\n",
      "|Christina Walker      |8847 Kramer Station            |NULL                      |NULL                 |protheus|2024-12-22 17:59:29.071918|\n",
      "|South Christopher     | IN 34699\"                     |ryanhoward@example.org    |001-408-373-1764x303 |protheus|2024-12-22 17:59:29.071918|\n",
      "+----------------------+-------------------------------+--------------------------+---------------------+--------+--------------------------+\n",
      "only showing top 20 rows\n",
      "\n"
     ]
    }
   ],
   "source": [
    "clients_csv_df_bronze.show(truncate=False)"
   ]
  },
  {
   "cell_type": "code",
   "execution_count": 8,
   "id": "36f3e44a-0cea-41cd-b31e-3614a3d5ec48",
   "metadata": {},
   "outputs": [],
   "source": [
    "( \n",
    "    clients_csv_df_bronze\n",
    "    .write\n",
    "    .mode('overwrite')\n",
    "    .parquet(\"s3a://bronze-zone/dataway/protheus/clients\")\n",
    ")"
   ]
  }
 ],
 "metadata": {
  "kernelspec": {
   "display_name": "Python 3 (ipykernel)",
   "language": "python",
   "name": "python3"
  },
  "language_info": {
   "codemirror_mode": {
    "name": "ipython",
    "version": 3
   },
   "file_extension": ".py",
   "mimetype": "text/x-python",
   "name": "python",
   "nbconvert_exporter": "python",
   "pygments_lexer": "ipython3",
   "version": "3.11.6"
  }
 },
 "nbformat": 4,
 "nbformat_minor": 5
}
