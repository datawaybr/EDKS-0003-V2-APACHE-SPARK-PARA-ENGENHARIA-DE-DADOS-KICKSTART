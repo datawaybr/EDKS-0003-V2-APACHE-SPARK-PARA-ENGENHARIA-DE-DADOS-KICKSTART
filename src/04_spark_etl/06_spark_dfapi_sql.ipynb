{
 "cells": [
  {
   "cell_type": "code",
   "execution_count": 1,
   "id": "df3e4f97-90dc-4cf0-82ef-14f713e1b3f1",
   "metadata": {},
   "outputs": [],
   "source": [
    "from pyspark.sql import SparkSession\n",
    "from pyspark.sql import functions as F"
   ]
  },
  {
   "cell_type": "code",
   "execution_count": 2,
   "id": "e8490c0a-b816-4e47-9cb4-eec43727347b",
   "metadata": {},
   "outputs": [],
   "source": [
    "spark = SparkSession.builder \\\n",
    "    .appName(\"MinIO\") \\\n",
    "    .master(\"local[*]\") \\\n",
    "    .config(\"spark.jars.packages\", \"org.apache.hadoop:hadoop-aws:3.3.1\") \\\n",
    "    .config(\"spark.hadoop.fs.s3a.endpoint\", \"http://host.docker.internal:9000\") \\\n",
    "    .config(\"spark.hadoop.fs.s3a.access.key\", \"MinioAdmin123\") \\\n",
    "    .config(\"spark.hadoop.fs.s3a.secret.key\", \"MinioAdmin123\") \\\n",
    "    .config(\"spark.hadoop.fs.s3a.path.style.access\", \"true\") \\\n",
    "    .config(\"spark.hadoop.fs.s3a.impl\", \"org.apache.hadoop.fs.s3a.S3AFileSystem\") \\\n",
    "    .getOrCreate()"
   ]
  },
  {
   "cell_type": "code",
   "execution_count": 3,
   "id": "ab4616a0-cf24-455d-b6b5-d3e15bddcb21",
   "metadata": {},
   "outputs": [
    {
     "data": {
      "text/html": [
       "\n",
       "            <div>\n",
       "                <p><b>SparkSession - in-memory</b></p>\n",
       "                \n",
       "        <div>\n",
       "            <p><b>SparkContext</b></p>\n",
       "\n",
       "            <p><a href=\"http://1fa5cd5ab09a:4043\">Spark UI</a></p>\n",
       "\n",
       "            <dl>\n",
       "              <dt>Version</dt>\n",
       "                <dd><code>v3.5.0</code></dd>\n",
       "              <dt>Master</dt>\n",
       "                <dd><code>local[*]</code></dd>\n",
       "              <dt>AppName</dt>\n",
       "                <dd><code>MinIO</code></dd>\n",
       "            </dl>\n",
       "        </div>\n",
       "        \n",
       "            </div>\n",
       "        "
      ],
      "text/plain": [
       "<pyspark.sql.session.SparkSession at 0xffff89181650>"
      ]
     },
     "execution_count": 3,
     "metadata": {},
     "output_type": "execute_result"
    }
   ],
   "source": [
    "spark"
   ]
  },
  {
   "cell_type": "code",
   "execution_count": 4,
   "id": "d967988e-7bde-4a57-909e-b955dda49728",
   "metadata": {},
   "outputs": [],
   "source": [
    "clients_json_df = (\n",
    "    spark\n",
    "    .read\n",
    "    .option(\"inferSchema\", \"true\")\n",
    "    .json(\"s3a://landing-zone/dataway/sap/clients\")\n",
    ")"
   ]
  },
  {
   "cell_type": "code",
   "execution_count": 5,
   "id": "4d762158-b73e-4963-bf44-0ed4c0eb641b",
   "metadata": {},
   "outputs": [
    {
     "name": "stdout",
     "output_type": "stream",
     "text": [
      "+-----------------------------------------------------------+---------------------------+-----------------+---------------------+\n",
      "|address                                                    |email                      |name             |phone_number         |\n",
      "+-----------------------------------------------------------+---------------------------+-----------------+---------------------+\n",
      "|4759 William Haven Apt. 194\\nWest Corey, CA 90152          |thomas15@example.com       |Norma Fisher     |993-787-7840x80160   |\n",
      "|28711 Golden Overpass\\nWest Andreaville, OH 44115          |tamaramorrison@example.net |Frederick Harrell|671-996-5934x2320    |\n",
      "|86848 Melissa Springs\\nRileymouth, NM 87040                |christopher91@example.com  |Michael Anderson |001-453-730-4135     |\n",
      "|98910 Cynthia Rest\\nSouth Christopherville, AZ 79865       |leetara@example.net        |Antonio Logan    |673-300-8691         |\n",
      "|91634 Strong Mountains Apt. 302\\nWest Alyssa, DE 78723     |awade@example.com          |Matthew Bell     |+1-269-684-5642x80715|\n",
      "|924 Goodman Village Apt. 093\\nErnestbury, SC 59238         |rpage@example.net          |Philip Olson     |(206)296-0271x42787  |\n",
      "|81206 Stewart Forest Apt. 089\\nEast Davidborough, VI 40139 |haley21@example.com        |Eric Owens PhD   |(210)247-1428x5124   |\n",
      "|USS Mathis\\nFPO AP 80139                                   |djoseph@example.net        |Michael Grant    |(758)323-6940x22455  |\n",
      "|6824 Timothy Garden Apt. 428\\nWest Richardmouth, ME 54859  |garciaregina@example.com   |Marc Williams    |351-371-7604x52296   |\n",
      "|8847 Kramer Station\\nSouth Christopher, IN 34699           |ryanhoward@example.org     |Christina Walker |001-408-373-1764x303 |\n",
      "|96687 Bass Parks Apt. 893\\nWest Janicemouth, GU 42683      |warrennancy@example.net    |James Payne      |(369)547-1180        |\n",
      "|75868 Audrey Springs\\nLake Ronaldborough, LA 70679         |epetersen@example.com      |Eric Blake       |+1-993-600-2489x451  |\n",
      "|23450 Timothy Divide\\nWuland, TX 92080                     |lisagomez@example.org      |Elizabeth Russell|+1-476-770-1720x099  |\n",
      "|09795 Tara Station Suite 264\\nNew Michelleborough, AZ 51884|mwatson@example.com        |Joshua Reed      |(310)807-4089x933    |\n",
      "|16116 Jessica Burgs Suite 660\\nCalhounmouth, VA 33607      |gomezdavid@example.net     |Theresa Thomas   |4555203519           |\n",
      "|PSC 0450, Box 9322\\nAPO AA 15232                           |qcooper@example.org        |Matthew Dennis   |4353574485           |\n",
      "|PSC 2358, Box 3324\\nAPO AA 55523                           |callahancarolyn@example.com|Kevin Moore      |812-664-8629         |\n",
      "|6065 Harris Hill\\nDavisburgh, WY 14737                     |daniel92@example.net       |Angela Wallace   |962.366.2375x825     |\n",
      "|41489 Roger Terrace\\nDavisfort, WV 30957                   |bramirez@example.org       |Mr. Aaron Hale   |600-546-8967x145     |\n",
      "|83216 Campbell Dale Apt. 816\\nFigueroaview, LA 58482       |ashley22@example.org       |Amanda Sparks    |001-516-969-7284x576 |\n",
      "+-----------------------------------------------------------+---------------------------+-----------------+---------------------+\n",
      "only showing top 20 rows\n",
      "\n"
     ]
    }
   ],
   "source": [
    "clients_json_df.show(truncate=False)"
   ]
  },
  {
   "cell_type": "code",
   "execution_count": 6,
   "id": "640227e2-2560-42b1-bf8c-4905e269d9de",
   "metadata": {},
   "outputs": [],
   "source": [
    "clients_json_df_bronze_df_api = (\n",
    "    clients_json_df\n",
    "    .withColumn('system', F.lit('sap'))\n",
    "    .withColumn('processed_at', F.current_timestamp())\n",
    ")"
   ]
  },
  {
   "cell_type": "code",
   "execution_count": 8,
   "id": "4d2fe86a-3fe4-4d83-b25b-c25897364857",
   "metadata": {},
   "outputs": [
    {
     "name": "stdout",
     "output_type": "stream",
     "text": [
      "+------------------------------------------------------+--------------------------+-----------------+---------------------+------+--------------------------+\n",
      "|address                                               |email                     |name             |phone_number         |system|processed_at              |\n",
      "+------------------------------------------------------+--------------------------+-----------------+---------------------+------+--------------------------+\n",
      "|4759 William Haven Apt. 194\\nWest Corey, CA 90152     |thomas15@example.com      |Norma Fisher     |993-787-7840x80160   |sap   |2025-01-11 19:42:49.768583|\n",
      "|28711 Golden Overpass\\nWest Andreaville, OH 44115     |tamaramorrison@example.net|Frederick Harrell|671-996-5934x2320    |sap   |2025-01-11 19:42:49.768583|\n",
      "|86848 Melissa Springs\\nRileymouth, NM 87040           |christopher91@example.com |Michael Anderson |001-453-730-4135     |sap   |2025-01-11 19:42:49.768583|\n",
      "|98910 Cynthia Rest\\nSouth Christopherville, AZ 79865  |leetara@example.net       |Antonio Logan    |673-300-8691         |sap   |2025-01-11 19:42:49.768583|\n",
      "|91634 Strong Mountains Apt. 302\\nWest Alyssa, DE 78723|awade@example.com         |Matthew Bell     |+1-269-684-5642x80715|sap   |2025-01-11 19:42:49.768583|\n",
      "+------------------------------------------------------+--------------------------+-----------------+---------------------+------+--------------------------+\n",
      "only showing top 5 rows\n",
      "\n"
     ]
    }
   ],
   "source": [
    "clients_json_df_bronze_df_api.show(5, truncate=False)"
   ]
  },
  {
   "cell_type": "code",
   "execution_count": 16,
   "id": "e9b44a99-5e0a-4f3d-b839-4240a05aee09",
   "metadata": {},
   "outputs": [],
   "source": [
    "clients_json_df_bronze_sql = spark.sql(\"\"\"\n",
    "        SELECT *, \n",
    "               'sap' as system,\n",
    "               current_timestamp() as processed_at\n",
    "        FROM {clients_json_df}\n",
    "    \"\"\",\n",
    "    clients_json_df=clients_json_df\n",
    ")"
   ]
  },
  {
   "cell_type": "code",
   "execution_count": 17,
   "id": "37082639-6317-4045-8566-4ff4acf7d134",
   "metadata": {},
   "outputs": [
    {
     "name": "stdout",
     "output_type": "stream",
     "text": [
      "+------------------------------------------------------+--------------------------+-----------------+---------------------+------+--------------------------+\n",
      "|address                                               |email                     |name             |phone_number         |system|processed_at              |\n",
      "+------------------------------------------------------+--------------------------+-----------------+---------------------+------+--------------------------+\n",
      "|4759 William Haven Apt. 194\\nWest Corey, CA 90152     |thomas15@example.com      |Norma Fisher     |993-787-7840x80160   |sap   |2025-01-11 19:45:09.801978|\n",
      "|28711 Golden Overpass\\nWest Andreaville, OH 44115     |tamaramorrison@example.net|Frederick Harrell|671-996-5934x2320    |sap   |2025-01-11 19:45:09.801978|\n",
      "|86848 Melissa Springs\\nRileymouth, NM 87040           |christopher91@example.com |Michael Anderson |001-453-730-4135     |sap   |2025-01-11 19:45:09.801978|\n",
      "|98910 Cynthia Rest\\nSouth Christopherville, AZ 79865  |leetara@example.net       |Antonio Logan    |673-300-8691         |sap   |2025-01-11 19:45:09.801978|\n",
      "|91634 Strong Mountains Apt. 302\\nWest Alyssa, DE 78723|awade@example.com         |Matthew Bell     |+1-269-684-5642x80715|sap   |2025-01-11 19:45:09.801978|\n",
      "+------------------------------------------------------+--------------------------+-----------------+---------------------+------+--------------------------+\n",
      "only showing top 5 rows\n",
      "\n"
     ]
    }
   ],
   "source": [
    "clients_json_df_bronze_sql.show(5, truncate=False)"
   ]
  },
  {
   "cell_type": "code",
   "execution_count": null,
   "id": "d00d73f5-9701-49a7-b269-ad252c88c159",
   "metadata": {},
   "outputs": [],
   "source": []
  }
 ],
 "metadata": {
  "kernelspec": {
   "display_name": "Python 3 (ipykernel)",
   "language": "python",
   "name": "python3"
  },
  "language_info": {
   "codemirror_mode": {
    "name": "ipython",
    "version": 3
   },
   "file_extension": ".py",
   "mimetype": "text/x-python",
   "name": "python",
   "nbconvert_exporter": "python",
   "pygments_lexer": "ipython3",
   "version": "3.11.6"
  }
 },
 "nbformat": 4,
 "nbformat_minor": 5
}
